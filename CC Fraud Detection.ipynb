{
 "cells": [
  {
   "cell_type": "raw",
   "metadata": {
    "deletable": true,
    "editable": true
   },
   "source": [
    "Since the features given are Principle Components, they can't be reduced further or analysed individually with respect to class. Project can be done in 2 ways.\n",
    "Part - 1:\n",
    "1. Undersampling Data\n",
    "2. Fitting different classification models over a range of parameters\n",
    "3. Validating models using confusion matrix, recall, ROC curve, auc\n",
    "\n",
    "Part - 2:\n",
    "1. Oversampling data using SMOTE\n",
    "2. Fitting different classification models over a range of parameters\n",
    "3. Validating models using confusion matrix, recall, ROC curve, auc"
   ]
  },
  {
   "cell_type": "code",
   "execution_count": 1,
   "metadata": {
    "collapsed": true,
    "deletable": true,
    "editable": true
   },
   "outputs": [],
   "source": [
    "#Importing libraries\n",
    "import pandas as pd\n",
    "import numpy as np\n",
    "import seaborn as sns\n",
    "import matplotlib.pyplot as plt\n",
    "%matplotlib inline"
   ]
  },
  {
   "cell_type": "code",
   "execution_count": 2,
   "metadata": {
    "collapsed": false,
    "deletable": true,
    "editable": true
   },
   "outputs": [
    {
     "data": {
      "text/html": [
       "<div>\n",
       "<table border=\"1\" class=\"dataframe\">\n",
       "  <thead>\n",
       "    <tr style=\"text-align: right;\">\n",
       "      <th></th>\n",
       "      <th>Time</th>\n",
       "      <th>V1</th>\n",
       "      <th>V2</th>\n",
       "      <th>V3</th>\n",
       "      <th>V4</th>\n",
       "      <th>V5</th>\n",
       "      <th>V6</th>\n",
       "      <th>V7</th>\n",
       "      <th>V8</th>\n",
       "      <th>V9</th>\n",
       "      <th>...</th>\n",
       "      <th>V21</th>\n",
       "      <th>V22</th>\n",
       "      <th>V23</th>\n",
       "      <th>V24</th>\n",
       "      <th>V25</th>\n",
       "      <th>V26</th>\n",
       "      <th>V27</th>\n",
       "      <th>V28</th>\n",
       "      <th>Amount</th>\n",
       "      <th>Class</th>\n",
       "    </tr>\n",
       "  </thead>\n",
       "  <tbody>\n",
       "    <tr>\n",
       "      <th>0</th>\n",
       "      <td>0</td>\n",
       "      <td>-1.359807</td>\n",
       "      <td>-0.072781</td>\n",
       "      <td>2.536347</td>\n",
       "      <td>1.378155</td>\n",
       "      <td>-0.338321</td>\n",
       "      <td>0.462388</td>\n",
       "      <td>0.239599</td>\n",
       "      <td>0.098698</td>\n",
       "      <td>0.363787</td>\n",
       "      <td>...</td>\n",
       "      <td>-0.018307</td>\n",
       "      <td>0.277838</td>\n",
       "      <td>-0.110474</td>\n",
       "      <td>0.066928</td>\n",
       "      <td>0.128539</td>\n",
       "      <td>-0.189115</td>\n",
       "      <td>0.133558</td>\n",
       "      <td>-0.021053</td>\n",
       "      <td>149.62</td>\n",
       "      <td>0</td>\n",
       "    </tr>\n",
       "    <tr>\n",
       "      <th>1</th>\n",
       "      <td>0</td>\n",
       "      <td>1.191857</td>\n",
       "      <td>0.266151</td>\n",
       "      <td>0.166480</td>\n",
       "      <td>0.448154</td>\n",
       "      <td>0.060018</td>\n",
       "      <td>-0.082361</td>\n",
       "      <td>-0.078803</td>\n",
       "      <td>0.085102</td>\n",
       "      <td>-0.255425</td>\n",
       "      <td>...</td>\n",
       "      <td>-0.225775</td>\n",
       "      <td>-0.638672</td>\n",
       "      <td>0.101288</td>\n",
       "      <td>-0.339846</td>\n",
       "      <td>0.167170</td>\n",
       "      <td>0.125895</td>\n",
       "      <td>-0.008983</td>\n",
       "      <td>0.014724</td>\n",
       "      <td>2.69</td>\n",
       "      <td>0</td>\n",
       "    </tr>\n",
       "    <tr>\n",
       "      <th>2</th>\n",
       "      <td>1</td>\n",
       "      <td>-1.358354</td>\n",
       "      <td>-1.340163</td>\n",
       "      <td>1.773209</td>\n",
       "      <td>0.379780</td>\n",
       "      <td>-0.503198</td>\n",
       "      <td>1.800499</td>\n",
       "      <td>0.791461</td>\n",
       "      <td>0.247676</td>\n",
       "      <td>-1.514654</td>\n",
       "      <td>...</td>\n",
       "      <td>0.247998</td>\n",
       "      <td>0.771679</td>\n",
       "      <td>0.909412</td>\n",
       "      <td>-0.689281</td>\n",
       "      <td>-0.327642</td>\n",
       "      <td>-0.139097</td>\n",
       "      <td>-0.055353</td>\n",
       "      <td>-0.059752</td>\n",
       "      <td>378.66</td>\n",
       "      <td>0</td>\n",
       "    </tr>\n",
       "  </tbody>\n",
       "</table>\n",
       "<p>3 rows × 31 columns</p>\n",
       "</div>"
      ],
      "text/plain": [
       "   Time        V1        V2        V3        V4        V5        V6        V7  \\\n",
       "0     0 -1.359807 -0.072781  2.536347  1.378155 -0.338321  0.462388  0.239599   \n",
       "1     0  1.191857  0.266151  0.166480  0.448154  0.060018 -0.082361 -0.078803   \n",
       "2     1 -1.358354 -1.340163  1.773209  0.379780 -0.503198  1.800499  0.791461   \n",
       "\n",
       "         V8        V9  ...         V21       V22       V23       V24  \\\n",
       "0  0.098698  0.363787  ...   -0.018307  0.277838 -0.110474  0.066928   \n",
       "1  0.085102 -0.255425  ...   -0.225775 -0.638672  0.101288 -0.339846   \n",
       "2  0.247676 -1.514654  ...    0.247998  0.771679  0.909412 -0.689281   \n",
       "\n",
       "        V25       V26       V27       V28  Amount  Class  \n",
       "0  0.128539 -0.189115  0.133558 -0.021053  149.62      0  \n",
       "1  0.167170  0.125895 -0.008983  0.014724    2.69      0  \n",
       "2 -0.327642 -0.139097 -0.055353 -0.059752  378.66      0  \n",
       "\n",
       "[3 rows x 31 columns]"
      ]
     },
     "execution_count": 2,
     "metadata": {},
     "output_type": "execute_result"
    }
   ],
   "source": [
    "#Reading CSV file\n",
    "cc_data = pd.read_csv(\"creditcard.csv\")\n",
    "cc_data.head(3)"
   ]
  },
  {
   "cell_type": "code",
   "execution_count": 3,
   "metadata": {
    "collapsed": false,
    "deletable": true,
    "editable": true
   },
   "outputs": [
    {
     "data": {
      "text/plain": [
       "Time      0\n",
       "V1        0\n",
       "V2        0\n",
       "V3        0\n",
       "V4        0\n",
       "V5        0\n",
       "V6        0\n",
       "V7        0\n",
       "V8        0\n",
       "V9        0\n",
       "V10       0\n",
       "V11       0\n",
       "V12       0\n",
       "V13       0\n",
       "V14       0\n",
       "V15       0\n",
       "V16       0\n",
       "V17       0\n",
       "V18       0\n",
       "V19       0\n",
       "V20       0\n",
       "V21       0\n",
       "V22       0\n",
       "V23       0\n",
       "V24       0\n",
       "V25       0\n",
       "V26       0\n",
       "V27       0\n",
       "V28       0\n",
       "Amount    0\n",
       "Class     0\n",
       "dtype: int64"
      ]
     },
     "execution_count": 3,
     "metadata": {},
     "output_type": "execute_result"
    }
   ],
   "source": [
    "#Checking for missing values\n",
    "cc_data.isnull().sum()"
   ]
  },
  {
   "cell_type": "code",
   "execution_count": 4,
   "metadata": {
    "collapsed": false,
    "deletable": true,
    "editable": true
   },
   "outputs": [
    {
     "name": "stdout",
     "output_type": "stream",
     "text": [
      "0.0 172792.0\n",
      "-56.4075096313 2.45492999121\n",
      "-72.7157275629 22.0577289905\n",
      "-48.3255893624 9.38255843282\n",
      "-5.68317119817 16.8753440336\n",
      "-113.743306711 34.8016658767\n",
      "-26.1605059358 73.301625546\n",
      "-43.5572415712 120.589493945\n",
      "-73.2167184553 20.0072083651\n",
      "-13.4340663182 15.5949946071\n",
      "-24.5882624372 23.7451361207\n",
      "-4.7974734648 12.0189131816\n",
      "-18.6837146333 7.84839207564\n",
      "-5.79188120632 7.12688295859\n",
      "-19.2143254903 10.5267660518\n",
      "-4.49894467677 8.87774159774\n",
      "-14.1298545175 17.3151115176\n",
      "-25.1627993693 9.25352625047\n",
      "-9.49874592105 5.04106918541\n",
      "-7.21352743018 5.59197142734\n",
      "-54.4977204946 39.4209042482\n",
      "-34.8303821448 27.2028391573\n",
      "-10.9331436977 10.5030900899\n",
      "-44.8077352038 22.5284116898\n",
      "-2.8366269187 4.5845491369\n",
      "-10.295397075 7.51958867871\n",
      "-2.60455055281 3.51734561162\n",
      "-22.5656793208 31.6121981061\n",
      "-15.4300839055 33.8478078189\n",
      "0.0 25691.16\n",
      "0.0 1.0\n"
     ]
    }
   ],
   "source": [
    "for i, (x,y) in enumerate(zip(cc_data.min() , cc_data.max())):\n",
    "                          print (x,y)"
   ]
  },
  {
   "cell_type": "raw",
   "metadata": {
    "deletable": true,
    "editable": true
   },
   "source": [
    "Data has to standardized."
   ]
  },
  {
   "cell_type": "code",
   "execution_count": 31,
   "metadata": {
    "collapsed": true,
    "deletable": true,
    "editable": true
   },
   "outputs": [],
   "source": [
    "#Dividing Data\n",
    "X = cc_data.drop([\"Class\",\"Time\"], axis = 1)\n",
    "y = cc_data[\"Class\"]"
   ]
  },
  {
   "cell_type": "markdown",
   "metadata": {
    "deletable": true,
    "editable": true
   },
   "source": [
    "# UnderSampling Data"
   ]
  },
  {
   "cell_type": "code",
   "execution_count": 32,
   "metadata": {
    "collapsed": true,
    "deletable": true,
    "editable": true
   },
   "outputs": [],
   "source": [
    "class1_len = y.value_counts()[1]"
   ]
  },
  {
   "cell_type": "code",
   "execution_count": 33,
   "metadata": {
    "collapsed": true,
    "deletable": true,
    "editable": true
   },
   "outputs": [],
   "source": [
    "class1_index = y[y==1].index"
   ]
  },
  {
   "cell_type": "code",
   "execution_count": 34,
   "metadata": {
    "collapsed": true,
    "deletable": true,
    "editable": true
   },
   "outputs": [],
   "source": [
    "class0_index = y[y==0].index"
   ]
  },
  {
   "cell_type": "code",
   "execution_count": 35,
   "metadata": {
    "collapsed": true,
    "deletable": true,
    "editable": true
   },
   "outputs": [],
   "source": [
    "class0_random = np.random.choice(class0_index,class1_len,replace = False)"
   ]
  },
  {
   "cell_type": "code",
   "execution_count": 36,
   "metadata": {
    "collapsed": false,
    "deletable": true,
    "editable": true
   },
   "outputs": [],
   "source": [
    "index = np.concatenate([class0_random,class1_index])"
   ]
  },
  {
   "cell_type": "code",
   "execution_count": 37,
   "metadata": {
    "collapsed": false,
    "deletable": true,
    "editable": true
   },
   "outputs": [],
   "source": [
    "X_under = X.iloc[index,:].values"
   ]
  },
  {
   "cell_type": "code",
   "execution_count": 38,
   "metadata": {
    "collapsed": false,
    "deletable": true,
    "editable": true
   },
   "outputs": [],
   "source": [
    "y_under = y.iloc[index].values"
   ]
  },
  {
   "cell_type": "code",
   "execution_count": 39,
   "metadata": {
    "collapsed": false,
    "deletable": true,
    "editable": true
   },
   "outputs": [
    {
     "data": {
      "text/plain": [
       "(492, 984)"
      ]
     },
     "execution_count": 39,
     "metadata": {},
     "output_type": "execute_result"
    }
   ],
   "source": [
    "len(y_under[y_under==0]), len(y_under)"
   ]
  },
  {
   "cell_type": "code",
   "execution_count": 40,
   "metadata": {
    "collapsed": true,
    "deletable": true,
    "editable": true
   },
   "outputs": [],
   "source": [
    "from sklearn.model_selection import train_test_split\n",
    "X_under_train,X_under_test,y_under_train,y_under_test = train_test_split(X_under,y_under,test_size = 0.3, random_state = 0)"
   ]
  },
  {
   "cell_type": "code",
   "execution_count": 41,
   "metadata": {
    "collapsed": false,
    "deletable": true,
    "editable": true
   },
   "outputs": [],
   "source": [
    "from sklearn.preprocessing import StandardScaler\n",
    "std = StandardScaler()\n",
    "X_under_train = std.fit_transform(X_under_train)\n",
    "X_under_test = std.transform(X_under_test)\n",
    "X_std = std.transform(X)"
   ]
  },
  {
   "cell_type": "code",
   "execution_count": 42,
   "metadata": {
    "collapsed": true,
    "deletable": true,
    "editable": true
   },
   "outputs": [],
   "source": [
    "from sklearn.model_selection import ShuffleSplit\n",
    "cv = ShuffleSplit(n_splits = 10, test_size = 0.2)"
   ]
  },
  {
   "cell_type": "markdown",
   "metadata": {
    "deletable": true,
    "editable": true
   },
   "source": [
    "# Logistic Regression"
   ]
  },
  {
   "cell_type": "code",
   "execution_count": 17,
   "metadata": {
    "collapsed": false,
    "deletable": true,
    "editable": true
   },
   "outputs": [],
   "source": [
    "recall_l1 = []\n",
    "roc_auc_l1 = []\n",
    "C_param = [0.01,0.1,1,10,100]\n",
    "for c in C_param:\n",
    "    from sklearn.linear_model import LogisticRegression\n",
    "    log_reg = LogisticRegression(C = c, penalty = \"l1\")\n",
    "    log_reg.fit(X_under_train,y_under_train)\n",
    "    y_pred = log_reg.predict(X_under_test) \n",
    "    from sklearn.metrics import recall_score,roc_auc_score\n",
    "    recall = recall_score(y_under_test,y_pred)\n",
    "    roc_auc = roc_auc_score(y_under_test,y_pred)\n",
    "    recall_l1.append(recall)\n",
    "    roc_auc_l1.append(roc_auc)"
   ]
  },
  {
   "cell_type": "code",
   "execution_count": 18,
   "metadata": {
    "collapsed": false,
    "deletable": true,
    "editable": true
   },
   "outputs": [
    {
     "data": {
      "text/html": [
       "<div>\n",
       "<table border=\"1\" class=\"dataframe\">\n",
       "  <thead>\n",
       "    <tr style=\"text-align: right;\">\n",
       "      <th></th>\n",
       "      <th>recall_score_l1</th>\n",
       "      <th>roc_auc_score_l1</th>\n",
       "    </tr>\n",
       "    <tr>\n",
       "      <th>C values</th>\n",
       "      <th></th>\n",
       "      <th></th>\n",
       "    </tr>\n",
       "  </thead>\n",
       "  <tbody>\n",
       "    <tr>\n",
       "      <th>0.01</th>\n",
       "      <td>0.751678</td>\n",
       "      <td>0.872438</td>\n",
       "    </tr>\n",
       "    <tr>\n",
       "      <th>0.10</th>\n",
       "      <td>0.838926</td>\n",
       "      <td>0.912660</td>\n",
       "    </tr>\n",
       "    <tr>\n",
       "      <th>1.00</th>\n",
       "      <td>0.892617</td>\n",
       "      <td>0.932703</td>\n",
       "    </tr>\n",
       "    <tr>\n",
       "      <th>10.00</th>\n",
       "      <td>0.912752</td>\n",
       "      <td>0.939369</td>\n",
       "    </tr>\n",
       "    <tr>\n",
       "      <th>100.00</th>\n",
       "      <td>0.906040</td>\n",
       "      <td>0.942816</td>\n",
       "    </tr>\n",
       "  </tbody>\n",
       "</table>\n",
       "</div>"
      ],
      "text/plain": [
       "          recall_score_l1  roc_auc_score_l1\n",
       "C values                                   \n",
       "0.01             0.751678          0.872438\n",
       "0.10             0.838926          0.912660\n",
       "1.00             0.892617          0.932703\n",
       "10.00            0.912752          0.939369\n",
       "100.00           0.906040          0.942816"
      ]
     },
     "execution_count": 18,
     "metadata": {},
     "output_type": "execute_result"
    }
   ],
   "source": [
    "log_reg_tabel = pd.DataFrame({\"recall_score_l1\":recall_l1,\"roc_auc_score_l1\":roc_auc_l1}, index =[0.01,0.1,1,10,100])\n",
    "log_reg_tabel.index.name = \"C values\"\n",
    "log_reg_tabel"
   ]
  },
  {
   "cell_type": "code",
   "execution_count": 19,
   "metadata": {
    "collapsed": false,
    "deletable": true,
    "editable": true
   },
   "outputs": [],
   "source": [
    "C_param = [0.01,0.1,1,10,100]\n",
    "recall_l2 = []\n",
    "roc_auc_l2 = []\n",
    "for c in C_param:\n",
    "    from sklearn.linear_model import LogisticRegression\n",
    "    log_reg = LogisticRegression(C = c, penalty = \"l2\")\n",
    "    log_reg.fit(X_under_train,y_under_train)\n",
    "    y_pred = log_reg.predict(X_under_test)\n",
    "    from sklearn.metrics import recall_score,roc_auc_score\n",
    "    recall = recall_score(y_under_test,y_pred)\n",
    "    roc_auc = roc_auc_score(y_under_test,y_pred)\n",
    "    recall_l2.append(recall)\n",
    "    roc_auc_l2.append(roc_auc)\n",
    "    "
   ]
  },
  {
   "cell_type": "code",
   "execution_count": 20,
   "metadata": {
    "collapsed": false,
    "deletable": true,
    "editable": true
   },
   "outputs": [
    {
     "data": {
      "text/html": [
       "<div>\n",
       "<table border=\"1\" class=\"dataframe\">\n",
       "  <thead>\n",
       "    <tr style=\"text-align: right;\">\n",
       "      <th></th>\n",
       "      <th>recall_score_l1</th>\n",
       "      <th>roc_auc_score_l1</th>\n",
       "      <th>recall_score_l2</th>\n",
       "      <th>roc_auc_l2</th>\n",
       "    </tr>\n",
       "    <tr>\n",
       "      <th>C values</th>\n",
       "      <th></th>\n",
       "      <th></th>\n",
       "      <th></th>\n",
       "      <th></th>\n",
       "    </tr>\n",
       "  </thead>\n",
       "  <tbody>\n",
       "    <tr>\n",
       "      <th>0.01</th>\n",
       "      <td>0.751678</td>\n",
       "      <td>0.872438</td>\n",
       "      <td>0.758389</td>\n",
       "      <td>0.879195</td>\n",
       "    </tr>\n",
       "    <tr>\n",
       "      <th>0.10</th>\n",
       "      <td>0.838926</td>\n",
       "      <td>0.912660</td>\n",
       "      <td>0.838926</td>\n",
       "      <td>0.916062</td>\n",
       "    </tr>\n",
       "    <tr>\n",
       "      <th>1.00</th>\n",
       "      <td>0.892617</td>\n",
       "      <td>0.932703</td>\n",
       "      <td>0.879195</td>\n",
       "      <td>0.925992</td>\n",
       "    </tr>\n",
       "    <tr>\n",
       "      <th>10.00</th>\n",
       "      <td>0.912752</td>\n",
       "      <td>0.939369</td>\n",
       "      <td>0.899329</td>\n",
       "      <td>0.936059</td>\n",
       "    </tr>\n",
       "    <tr>\n",
       "      <th>100.00</th>\n",
       "      <td>0.906040</td>\n",
       "      <td>0.942816</td>\n",
       "      <td>0.906040</td>\n",
       "      <td>0.939415</td>\n",
       "    </tr>\n",
       "  </tbody>\n",
       "</table>\n",
       "</div>"
      ],
      "text/plain": [
       "          recall_score_l1  roc_auc_score_l1  recall_score_l2  roc_auc_l2\n",
       "C values                                                                \n",
       "0.01             0.751678          0.872438         0.758389    0.879195\n",
       "0.10             0.838926          0.912660         0.838926    0.916062\n",
       "1.00             0.892617          0.932703         0.879195    0.925992\n",
       "10.00            0.912752          0.939369         0.899329    0.936059\n",
       "100.00           0.906040          0.942816         0.906040    0.939415"
      ]
     },
     "execution_count": 20,
     "metadata": {},
     "output_type": "execute_result"
    }
   ],
   "source": [
    "log_reg_tabel[\"recall_score_l2\"] = recall_l2\n",
    "log_reg_tabel[\"roc_auc_l2\"] = roc_auc_l2\n",
    "log_reg_tabel"
   ]
  },
  {
   "cell_type": "raw",
   "metadata": {
    "collapsed": true,
    "deletable": true,
    "editable": true
   },
   "source": [
    "Best logistic regression parameters would be C = 10, peanlty = \"l2\". They give recall score of 90.6% and area under ROC curve is 0.95"
   ]
  },
  {
   "cell_type": "code",
   "execution_count": 25,
   "metadata": {
    "collapsed": false,
    "deletable": true,
    "editable": true
   },
   "outputs": [
    {
     "data": {
      "image/png": "[encoded data removed]",
      "text/plain": [
       "<matplotlib.figure.Figure at 0x7f9162931d68>"
      ]
     },
     "metadata": {},
     "output_type": "display_data"
    }
   ],
   "source": [
    "#Analysing Precision-recall curve for these values of C and penalty\n",
    "Threshold = [0.1,0.2,0.3,0.4,0.5,0.6,0.7,0.8,0.9]\n",
    "from sklearn.linear_model import LogisticRegression\n",
    "log_reg_best = LogisticRegression(C = 10, penalty = \"l2\")\n",
    "log_reg_best.fit(X_under_train,y_under_train)\n",
    "y_pred_prob = log_reg_best.predict_proba(X_under_test)\n",
    "plt.figure(figsize = (10,10))\n",
    "for i in Threshold :\n",
    "    y_pred = y_pred_prob[:,1] > i\n",
    "    from sklearn.metrics import precision_recall_curve\n",
    "    precision,recall, thresholds = precision_recall_curve(y_true = y_under_test,probas_pred = y_pred)\n",
    "    plt.plot(recall,precision, label = \"Threshold %s\"%i)\n",
    "    plt.xlim(0,1.1)\n",
    "    plt.ylim(0,1.1)\n",
    "    plt.legend(loc = \"center\")"
   ]
  },
  {
   "cell_type": "code",
   "execution_count": 22,
   "metadata": {
    "collapsed": false,
    "deletable": true,
    "editable": true
   },
   "outputs": [
    {
     "data": {
      "text/plain": [
       "(array([ 0.50337838,  0.95172414,  1.        ]),\n",
       " array([ 1.       ,  0.9261745,  0.       ]),\n",
       " array([False,  True], dtype=bool))"
      ]
     },
     "execution_count": 22,
     "metadata": {},
     "output_type": "execute_result"
    }
   ],
   "source": [
    "y_pred = y_pred_prob[:,1] > 0.3\n",
    "from sklearn.metrics import precision_recall_curve\n",
    "precision,recall, thresholds = precision_recall_curve(y_true = y_under_test,probas_pred = y_pred)\n",
    "precision,recall, thresholds"
   ]
  },
  {
   "cell_type": "raw",
   "metadata": {
    "deletable": true,
    "editable": true
   },
   "source": [
    "By changing the threshold, good recall accuracy was achieved. Testing this on entire X set."
   ]
  },
  {
   "cell_type": "code",
   "execution_count": 34,
   "metadata": {
    "collapsed": false,
    "deletable": true,
    "editable": true
   },
   "outputs": [
    {
     "data": {
      "text/plain": [
       "(array([ 0.00172749,  0.02342205,  1.        ]),\n",
       " array([ 1.        ,  0.93902439,  0.        ]),\n",
       " array([False,  True], dtype=bool))"
      ]
     },
     "execution_count": 34,
     "metadata": {},
     "output_type": "execute_result"
    }
   ],
   "source": [
    "#Using this to check on entire X\n",
    "from sklearn.linear_model import LogisticRegression\n",
    "log_reg_best = LogisticRegression(C = 10, penalty = \"l2\")\n",
    "log_reg_best.fit(X_under_train,y_under_train)\n",
    "y_pred_total = log_reg_best.predict_proba(X_std)\n",
    "y_pred = y_pred_total[:,1] > 0.3\n",
    "from sklearn.metrics import precision_recall_curve\n",
    "precision,recall, thresholds = precision_recall_curve(y_true = y,probas_pred = y_pred)\n",
    "precision, recall, thresholds"
   ]
  },
  {
   "cell_type": "raw",
   "metadata": {
    "collapsed": true,
    "deletable": true,
    "editable": true
   },
   "source": [
    "Using parameters C=10, penalty = \"l2\" and keeping threshold = 0.3; recall accuracy of 94% was acheived by fitting the model to undersampled data and checking it on the entire X set."
   ]
  },
  {
   "cell_type": "markdown",
   "metadata": {
    "deletable": true,
    "editable": true
   },
   "source": [
    "# KNN Classifier"
   ]
  },
  {
   "cell_type": "code",
   "execution_count": 63,
   "metadata": {
    "collapsed": false,
    "deletable": true,
    "editable": true
   },
   "outputs": [],
   "source": [
    "n = range(1,30)\n",
    "recall_uniform = []\n",
    "roc_auc_uniform = []\n",
    "score_uniform = []\n",
    "for i in n :\n",
    "    from sklearn.neighbors import KNeighborsClassifier\n",
    "    knn = KNeighborsClassifier(n_neighbors = i, weights = \"uniform\")\n",
    "    knn.fit(X_under_train,y_under_train)\n",
    "    y_pred = knn.predict(X_under_test)\n",
    "    score = knn.score(X_under_test,y_under_test)\n",
    "    from sklearn.metrics import recall_score,roc_auc_score\n",
    "    recall = recall_score(y_under_test,y_pred)\n",
    "    roc_auc = roc_auc_score(y_under_test,y_pred)\n",
    "    recall_uniform.append(recall)\n",
    "    roc_auc_uniform.append(roc_auc)\n",
    "    score_uniform.append(score)"
   ]
  },
  {
   "cell_type": "code",
   "execution_count": 72,
   "metadata": {
    "collapsed": false,
    "deletable": true,
    "editable": true
   },
   "outputs": [],
   "source": [
    "knn_tabel = pd.DataFrame({\"recall_uniform\":recall_uniform,\"roc_auc_score_uniform\":roc_auc_uniform}, index =range(1,30))\n",
    "knn_tabel.index.name = \"n_neighbors\"\n",
    "knn_tabel[\"score_uniform\"] = score_uniform"
   ]
  },
  {
   "cell_type": "code",
   "execution_count": 73,
   "metadata": {
    "collapsed": false,
    "deletable": true,
    "editable": true
   },
   "outputs": [],
   "source": [
    "n = range(1,30)\n",
    "recall_distance = []\n",
    "roc_auc_distance = []\n",
    "score_distance = []\n",
    "for i in n :\n",
    "    from sklearn.neighbors import KNeighborsClassifier\n",
    "    knn = KNeighborsClassifier(n_neighbors = i, weights = \"distance\")\n",
    "    knn.fit(X_under_train,y_under_train)\n",
    "    y_pred = knn.predict(X_under_test)\n",
    "    score = knn.score(X_under_test,y_under_test)\n",
    "    from sklearn.metrics import recall_score,roc_auc_score\n",
    "    recall = recall_score(y_under_test,y_pred)\n",
    "    roc_auc = roc_auc_score(y_under_test,y_pred)\n",
    "    recall_distance.append(recall)\n",
    "    roc_auc_distance.append(roc_auc)\n",
    "    score_distance.append(score)"
   ]
  },
  {
   "cell_type": "code",
   "execution_count": 74,
   "metadata": {
    "collapsed": false,
    "deletable": true,
    "editable": true
   },
   "outputs": [
    {
     "data": {
      "text/html": [
       "<div>\n",
       "<table border=\"1\" class=\"dataframe\">\n",
       "  <thead>\n",
       "    <tr style=\"text-align: right;\">\n",
       "      <th></th>\n",
       "      <th>recall_uniform</th>\n",
       "      <th>roc_auc_score_uniform</th>\n",
       "      <th>score_uniform</th>\n",
       "      <th>recall_distance</th>\n",
       "      <th>roc_auc_score_distance</th>\n",
       "      <th>score_distance</th>\n",
       "    </tr>\n",
       "    <tr>\n",
       "      <th>n_neighbors</th>\n",
       "      <th></th>\n",
       "      <th></th>\n",
       "      <th></th>\n",
       "      <th></th>\n",
       "      <th></th>\n",
       "      <th></th>\n",
       "    </tr>\n",
       "  </thead>\n",
       "  <tbody>\n",
       "    <tr>\n",
       "      <th>1</th>\n",
       "      <td>0.865772</td>\n",
       "      <td>0.912478</td>\n",
       "      <td>0.912162</td>\n",
       "      <td>0.865772</td>\n",
       "      <td>0.912478</td>\n",
       "      <td>0.912162</td>\n",
       "    </tr>\n",
       "    <tr>\n",
       "      <th>2</th>\n",
       "      <td>0.812081</td>\n",
       "      <td>0.906040</td>\n",
       "      <td>0.905405</td>\n",
       "      <td>0.865772</td>\n",
       "      <td>0.912478</td>\n",
       "      <td>0.912162</td>\n",
       "    </tr>\n",
       "    <tr>\n",
       "      <th>3</th>\n",
       "      <td>0.845638</td>\n",
       "      <td>0.912615</td>\n",
       "      <td>0.912162</td>\n",
       "      <td>0.845638</td>\n",
       "      <td>0.912615</td>\n",
       "      <td>0.912162</td>\n",
       "    </tr>\n",
       "    <tr>\n",
       "      <th>4</th>\n",
       "      <td>0.805369</td>\n",
       "      <td>0.895882</td>\n",
       "      <td>0.895270</td>\n",
       "      <td>0.852349</td>\n",
       "      <td>0.915970</td>\n",
       "      <td>0.915541</td>\n",
       "    </tr>\n",
       "    <tr>\n",
       "      <th>5</th>\n",
       "      <td>0.825503</td>\n",
       "      <td>0.905949</td>\n",
       "      <td>0.905405</td>\n",
       "      <td>0.825503</td>\n",
       "      <td>0.905949</td>\n",
       "      <td>0.905405</td>\n",
       "    </tr>\n",
       "    <tr>\n",
       "      <th>6</th>\n",
       "      <td>0.805369</td>\n",
       "      <td>0.899283</td>\n",
       "      <td>0.898649</td>\n",
       "      <td>0.825503</td>\n",
       "      <td>0.909350</td>\n",
       "      <td>0.908784</td>\n",
       "    </tr>\n",
       "    <tr>\n",
       "      <th>7</th>\n",
       "      <td>0.825503</td>\n",
       "      <td>0.905949</td>\n",
       "      <td>0.905405</td>\n",
       "      <td>0.825503</td>\n",
       "      <td>0.905949</td>\n",
       "      <td>0.905405</td>\n",
       "    </tr>\n",
       "    <tr>\n",
       "      <th>8</th>\n",
       "      <td>0.812081</td>\n",
       "      <td>0.902639</td>\n",
       "      <td>0.902027</td>\n",
       "      <td>0.832215</td>\n",
       "      <td>0.912706</td>\n",
       "      <td>0.912162</td>\n",
       "    </tr>\n",
       "    <tr>\n",
       "      <th>9</th>\n",
       "      <td>0.812081</td>\n",
       "      <td>0.902639</td>\n",
       "      <td>0.902027</td>\n",
       "      <td>0.818792</td>\n",
       "      <td>0.905995</td>\n",
       "      <td>0.905405</td>\n",
       "    </tr>\n",
       "    <tr>\n",
       "      <th>10</th>\n",
       "      <td>0.805369</td>\n",
       "      <td>0.902685</td>\n",
       "      <td>0.902027</td>\n",
       "      <td>0.825503</td>\n",
       "      <td>0.909350</td>\n",
       "      <td>0.908784</td>\n",
       "    </tr>\n",
       "    <tr>\n",
       "      <th>11</th>\n",
       "      <td>0.818792</td>\n",
       "      <td>0.909396</td>\n",
       "      <td>0.908784</td>\n",
       "      <td>0.818792</td>\n",
       "      <td>0.909396</td>\n",
       "      <td>0.908784</td>\n",
       "    </tr>\n",
       "    <tr>\n",
       "      <th>12</th>\n",
       "      <td>0.805369</td>\n",
       "      <td>0.902685</td>\n",
       "      <td>0.902027</td>\n",
       "      <td>0.818792</td>\n",
       "      <td>0.909396</td>\n",
       "      <td>0.908784</td>\n",
       "    </tr>\n",
       "    <tr>\n",
       "      <th>13</th>\n",
       "      <td>0.805369</td>\n",
       "      <td>0.902685</td>\n",
       "      <td>0.902027</td>\n",
       "      <td>0.805369</td>\n",
       "      <td>0.902685</td>\n",
       "      <td>0.902027</td>\n",
       "    </tr>\n",
       "    <tr>\n",
       "      <th>14</th>\n",
       "      <td>0.791946</td>\n",
       "      <td>0.895973</td>\n",
       "      <td>0.895270</td>\n",
       "      <td>0.812081</td>\n",
       "      <td>0.906040</td>\n",
       "      <td>0.905405</td>\n",
       "    </tr>\n",
       "    <tr>\n",
       "      <th>15</th>\n",
       "      <td>0.798658</td>\n",
       "      <td>0.899329</td>\n",
       "      <td>0.898649</td>\n",
       "      <td>0.798658</td>\n",
       "      <td>0.899329</td>\n",
       "      <td>0.898649</td>\n",
       "    </tr>\n",
       "    <tr>\n",
       "      <th>16</th>\n",
       "      <td>0.785235</td>\n",
       "      <td>0.892617</td>\n",
       "      <td>0.891892</td>\n",
       "      <td>0.798658</td>\n",
       "      <td>0.899329</td>\n",
       "      <td>0.898649</td>\n",
       "    </tr>\n",
       "    <tr>\n",
       "      <th>17</th>\n",
       "      <td>0.785235</td>\n",
       "      <td>0.892617</td>\n",
       "      <td>0.891892</td>\n",
       "      <td>0.791946</td>\n",
       "      <td>0.895973</td>\n",
       "      <td>0.895270</td>\n",
       "    </tr>\n",
       "    <tr>\n",
       "      <th>18</th>\n",
       "      <td>0.785235</td>\n",
       "      <td>0.892617</td>\n",
       "      <td>0.891892</td>\n",
       "      <td>0.791946</td>\n",
       "      <td>0.895973</td>\n",
       "      <td>0.895270</td>\n",
       "    </tr>\n",
       "    <tr>\n",
       "      <th>19</th>\n",
       "      <td>0.785235</td>\n",
       "      <td>0.892617</td>\n",
       "      <td>0.891892</td>\n",
       "      <td>0.791946</td>\n",
       "      <td>0.895973</td>\n",
       "      <td>0.895270</td>\n",
       "    </tr>\n",
       "    <tr>\n",
       "      <th>20</th>\n",
       "      <td>0.778523</td>\n",
       "      <td>0.889262</td>\n",
       "      <td>0.888514</td>\n",
       "      <td>0.791946</td>\n",
       "      <td>0.895973</td>\n",
       "      <td>0.895270</td>\n",
       "    </tr>\n",
       "    <tr>\n",
       "      <th>21</th>\n",
       "      <td>0.785235</td>\n",
       "      <td>0.892617</td>\n",
       "      <td>0.891892</td>\n",
       "      <td>0.798658</td>\n",
       "      <td>0.899329</td>\n",
       "      <td>0.898649</td>\n",
       "    </tr>\n",
       "    <tr>\n",
       "      <th>22</th>\n",
       "      <td>0.778523</td>\n",
       "      <td>0.889262</td>\n",
       "      <td>0.888514</td>\n",
       "      <td>0.778523</td>\n",
       "      <td>0.889262</td>\n",
       "      <td>0.888514</td>\n",
       "    </tr>\n",
       "    <tr>\n",
       "      <th>23</th>\n",
       "      <td>0.785235</td>\n",
       "      <td>0.892617</td>\n",
       "      <td>0.891892</td>\n",
       "      <td>0.785235</td>\n",
       "      <td>0.892617</td>\n",
       "      <td>0.891892</td>\n",
       "    </tr>\n",
       "    <tr>\n",
       "      <th>24</th>\n",
       "      <td>0.785235</td>\n",
       "      <td>0.892617</td>\n",
       "      <td>0.891892</td>\n",
       "      <td>0.785235</td>\n",
       "      <td>0.892617</td>\n",
       "      <td>0.891892</td>\n",
       "    </tr>\n",
       "    <tr>\n",
       "      <th>25</th>\n",
       "      <td>0.785235</td>\n",
       "      <td>0.892617</td>\n",
       "      <td>0.891892</td>\n",
       "      <td>0.785235</td>\n",
       "      <td>0.892617</td>\n",
       "      <td>0.891892</td>\n",
       "    </tr>\n",
       "    <tr>\n",
       "      <th>26</th>\n",
       "      <td>0.785235</td>\n",
       "      <td>0.892617</td>\n",
       "      <td>0.891892</td>\n",
       "      <td>0.785235</td>\n",
       "      <td>0.892617</td>\n",
       "      <td>0.891892</td>\n",
       "    </tr>\n",
       "    <tr>\n",
       "      <th>27</th>\n",
       "      <td>0.785235</td>\n",
       "      <td>0.892617</td>\n",
       "      <td>0.891892</td>\n",
       "      <td>0.785235</td>\n",
       "      <td>0.892617</td>\n",
       "      <td>0.891892</td>\n",
       "    </tr>\n",
       "    <tr>\n",
       "      <th>28</th>\n",
       "      <td>0.771812</td>\n",
       "      <td>0.885906</td>\n",
       "      <td>0.885135</td>\n",
       "      <td>0.785235</td>\n",
       "      <td>0.892617</td>\n",
       "      <td>0.891892</td>\n",
       "    </tr>\n",
       "    <tr>\n",
       "      <th>29</th>\n",
       "      <td>0.785235</td>\n",
       "      <td>0.892617</td>\n",
       "      <td>0.891892</td>\n",
       "      <td>0.785235</td>\n",
       "      <td>0.892617</td>\n",
       "      <td>0.891892</td>\n",
       "    </tr>\n",
       "  </tbody>\n",
       "</table>\n",
       "</div>"
      ],
      "text/plain": [
       "             recall_uniform  roc_auc_score_uniform  score_uniform  \\\n",
       "n_neighbors                                                         \n",
       "1                  0.865772               0.912478       0.912162   \n",
       "2                  0.812081               0.906040       0.905405   \n",
       "3                  0.845638               0.912615       0.912162   \n",
       "4                  0.805369               0.895882       0.895270   \n",
       "5                  0.825503               0.905949       0.905405   \n",
       "6                  0.805369               0.899283       0.898649   \n",
       "7                  0.825503               0.905949       0.905405   \n",
       "8                  0.812081               0.902639       0.902027   \n",
       "9                  0.812081               0.902639       0.902027   \n",
       "10                 0.805369               0.902685       0.902027   \n",
       "11                 0.818792               0.909396       0.908784   \n",
       "12                 0.805369               0.902685       0.902027   \n",
       "13                 0.805369               0.902685       0.902027   \n",
       "14                 0.791946               0.895973       0.895270   \n",
       "15                 0.798658               0.899329       0.898649   \n",
       "16                 0.785235               0.892617       0.891892   \n",
       "17                 0.785235               0.892617       0.891892   \n",
       "18                 0.785235               0.892617       0.891892   \n",
       "19                 0.785235               0.892617       0.891892   \n",
       "20                 0.778523               0.889262       0.888514   \n",
       "21                 0.785235               0.892617       0.891892   \n",
       "22                 0.778523               0.889262       0.888514   \n",
       "23                 0.785235               0.892617       0.891892   \n",
       "24                 0.785235               0.892617       0.891892   \n",
       "25                 0.785235               0.892617       0.891892   \n",
       "26                 0.785235               0.892617       0.891892   \n",
       "27                 0.785235               0.892617       0.891892   \n",
       "28                 0.771812               0.885906       0.885135   \n",
       "29                 0.785235               0.892617       0.891892   \n",
       "\n",
       "             recall_distance  roc_auc_score_distance  score_distance  \n",
       "n_neighbors                                                           \n",
       "1                   0.865772                0.912478        0.912162  \n",
       "2                   0.865772                0.912478        0.912162  \n",
       "3                   0.845638                0.912615        0.912162  \n",
       "4                   0.852349                0.915970        0.915541  \n",
       "5                   0.825503                0.905949        0.905405  \n",
       "6                   0.825503                0.909350        0.908784  \n",
       "7                   0.825503                0.905949        0.905405  \n",
       "8                   0.832215                0.912706        0.912162  \n",
       "9                   0.818792                0.905995        0.905405  \n",
       "10                  0.825503                0.909350        0.908784  \n",
       "11                  0.818792                0.909396        0.908784  \n",
       "12                  0.818792                0.909396        0.908784  \n",
       "13                  0.805369                0.902685        0.902027  \n",
       "14                  0.812081                0.906040        0.905405  \n",
       "15                  0.798658                0.899329        0.898649  \n",
       "16                  0.798658                0.899329        0.898649  \n",
       "17                  0.791946                0.895973        0.895270  \n",
       "18                  0.791946                0.895973        0.895270  \n",
       "19                  0.791946                0.895973        0.895270  \n",
       "20                  0.791946                0.895973        0.895270  \n",
       "21                  0.798658                0.899329        0.898649  \n",
       "22                  0.778523                0.889262        0.888514  \n",
       "23                  0.785235                0.892617        0.891892  \n",
       "24                  0.785235                0.892617        0.891892  \n",
       "25                  0.785235                0.892617        0.891892  \n",
       "26                  0.785235                0.892617        0.891892  \n",
       "27                  0.785235                0.892617        0.891892  \n",
       "28                  0.785235                0.892617        0.891892  \n",
       "29                  0.785235                0.892617        0.891892  "
      ]
     },
     "execution_count": 74,
     "metadata": {},
     "output_type": "execute_result"
    }
   ],
   "source": [
    "knn_tabel[\"recall_distance\"] = recall_distance\n",
    "knn_tabel[\"roc_auc_score_distance\"] = roc_auc_distance\n",
    "knn_tabel[\"score_distance\"] = score_distance\n",
    "knn_tabel"
   ]
  },
  {
   "cell_type": "code",
   "execution_count": 75,
   "metadata": {
    "collapsed": false,
    "deletable": true,
    "editable": true
   },
   "outputs": [
    {
     "data": {
      "text/plain": [
       "recall_uniform            0.865772\n",
       "roc_auc_score_uniform     0.912615\n",
       "score_uniform             0.912162\n",
       "recall_distance           0.865772\n",
       "roc_auc_score_distance    0.915970\n",
       "score_distance            0.915541\n",
       "dtype: float64"
      ]
     },
     "execution_count": 75,
     "metadata": {},
     "output_type": "execute_result"
    }
   ],
   "source": [
    "knn_tabel.max()"
   ]
  },
  {
   "cell_type": "raw",
   "metadata": {
    "deletable": true,
    "editable": true
   },
   "source": [
    "Best parameters for knn would be n_neighbors = 4, weights = distance"
   ]
  },
  {
   "cell_type": "code",
   "execution_count": 77,
   "metadata": {
    "collapsed": false,
    "deletable": true,
    "editable": true
   },
   "outputs": [
    {
     "data": {
      "image/png": "[encoded data removed]",
      "text/plain": [
       "<matplotlib.figure.Figure at 0x7f9162478e10>"
      ]
     },
     "metadata": {},
     "output_type": "display_data"
    }
   ],
   "source": [
    "#Checking for optimum threshold\n",
    "Threshold = [0.1,0.2,0.3,0.4,0.5,0.6,0.7,0.8,0.9]\n",
    "from sklearn.neighbors import KNeighborsClassifier\n",
    "knn_best = KNeighborsClassifier(n_neighbors = 4, weights = \"distance\")\n",
    "knn_best.fit(X_under_train,y_under_train)\n",
    "y_pred = knn_best.predict(X_under_test)\n",
    "y_pred_prob = knn_best.predict_proba(X_under_test)\n",
    "plt.figure(figsize = (10,10))\n",
    "precision_knn = []\n",
    "recall_knn = []\n",
    "for i in Threshold :\n",
    "    y_pred = y_pred_prob[:,1] > i\n",
    "    from sklearn.metrics import precision_recall_curve\n",
    "    precision,recall, thresholds = precision_recall_curve(y_true = y_under_test,probas_pred = y_pred)\n",
    "    precision_knn.append(precision[1])\n",
    "    recall_knn.append(recall[1])\n",
    "    plt.plot(recall,precision, label = \"Threshold %s\"%i)\n",
    "    plt.xlim(0,1.1)\n",
    "    plt.ylim(0,1.1)\n",
    "    plt.legend(loc = \"center\")"
   ]
  },
  {
   "cell_type": "code",
   "execution_count": 78,
   "metadata": {
    "collapsed": false,
    "deletable": true,
    "editable": true
   },
   "outputs": [
    {
     "data": {
      "text/html": [
       "<div>\n",
       "<table border=\"1\" class=\"dataframe\">\n",
       "  <thead>\n",
       "    <tr style=\"text-align: right;\">\n",
       "      <th></th>\n",
       "      <th>precision</th>\n",
       "      <th>recall</th>\n",
       "    </tr>\n",
       "    <tr>\n",
       "      <th>Threshold Values</th>\n",
       "      <th></th>\n",
       "      <th></th>\n",
       "    </tr>\n",
       "  </thead>\n",
       "  <tbody>\n",
       "    <tr>\n",
       "      <th>0.1</th>\n",
       "      <td>0.867089</td>\n",
       "      <td>0.919463</td>\n",
       "    </tr>\n",
       "    <tr>\n",
       "      <th>0.2</th>\n",
       "      <td>0.867089</td>\n",
       "      <td>0.919463</td>\n",
       "    </tr>\n",
       "    <tr>\n",
       "      <th>0.3</th>\n",
       "      <td>0.955882</td>\n",
       "      <td>0.872483</td>\n",
       "    </tr>\n",
       "    <tr>\n",
       "      <th>0.4</th>\n",
       "      <td>0.962963</td>\n",
       "      <td>0.872483</td>\n",
       "    </tr>\n",
       "    <tr>\n",
       "      <th>0.5</th>\n",
       "      <td>0.976923</td>\n",
       "      <td>0.852349</td>\n",
       "    </tr>\n",
       "    <tr>\n",
       "      <th>0.6</th>\n",
       "      <td>0.983607</td>\n",
       "      <td>0.805369</td>\n",
       "    </tr>\n",
       "    <tr>\n",
       "      <th>0.7</th>\n",
       "      <td>0.983607</td>\n",
       "      <td>0.805369</td>\n",
       "    </tr>\n",
       "    <tr>\n",
       "      <th>0.8</th>\n",
       "      <td>1.000000</td>\n",
       "      <td>0.744966</td>\n",
       "    </tr>\n",
       "    <tr>\n",
       "      <th>0.9</th>\n",
       "      <td>1.000000</td>\n",
       "      <td>0.744966</td>\n",
       "    </tr>\n",
       "  </tbody>\n",
       "</table>\n",
       "</div>"
      ],
      "text/plain": [
       "                  precision    recall\n",
       "Threshold Values                     \n",
       "0.1                0.867089  0.919463\n",
       "0.2                0.867089  0.919463\n",
       "0.3                0.955882  0.872483\n",
       "0.4                0.962963  0.872483\n",
       "0.5                0.976923  0.852349\n",
       "0.6                0.983607  0.805369\n",
       "0.7                0.983607  0.805369\n",
       "0.8                1.000000  0.744966\n",
       "0.9                1.000000  0.744966"
      ]
     },
     "execution_count": 78,
     "metadata": {},
     "output_type": "execute_result"
    }
   ],
   "source": [
    "knn_best_tabel = pd.DataFrame({\"precision\":precision_knn,\"recall\":recall_knn}, index = Threshold)\n",
    "knn_best_tabel.index.name = \"Threshold Values\"\n",
    "knn_best_tabel"
   ]
  },
  {
   "cell_type": "code",
   "execution_count": 15,
   "metadata": {
    "collapsed": false,
    "deletable": true,
    "editable": true
   },
   "outputs": [
    {
     "data": {
      "text/plain": [
       "(0.0074740034662045063, 0.98170731707317072)"
      ]
     },
     "execution_count": 15,
     "metadata": {},
     "output_type": "execute_result"
    }
   ],
   "source": [
    "from sklearn.neighbors import KNeighborsClassifier\n",
    "knn_best = KNeighborsClassifier(n_neighbors = 4, weights = \"distance\")\n",
    "knn_best.fit(X_under_train,y_under_train)\n",
    "y_pred_prob = knn_best.predict_proba(X_std)\n",
    "y_pred = y_pred_prob[:,1] > 0.2\n",
    "from sklearn.metrics import precision_recall_curve\n",
    "precision,recall, thresholds = precision_recall_curve(y_true = y,probas_pred = y_pred)\n",
    "precision[1], recall[1]"
   ]
  },
  {
   "cell_type": "code",
   "execution_count": 16,
   "metadata": {
    "collapsed": false,
    "deletable": true,
    "editable": true
   },
   "outputs": [
    {
     "data": {
      "text/plain": [
       "0.97149648709476943"
      ]
     },
     "execution_count": 16,
     "metadata": {},
     "output_type": "execute_result"
    }
   ],
   "source": [
    "knn_best.score(X_std,y)"
   ]
  },
  {
   "cell_type": "code",
   "execution_count": 17,
   "metadata": {
    "collapsed": true,
    "deletable": true,
    "editable": true
   },
   "outputs": [],
   "source": [
    "from sklearn.metrics import confusion_matrix\n",
    "cm = confusion_matrix(y,knn_best.predict(X_std))"
   ]
  },
  {
   "cell_type": "code",
   "execution_count": 18,
   "metadata": {
    "collapsed": false,
    "deletable": true,
    "editable": true
   },
   "outputs": [
    {
     "data": {
      "text/plain": [
       "array([[276219,   8096],\n",
       "       [    22,    470]])"
      ]
     },
     "execution_count": 18,
     "metadata": {},
     "output_type": "execute_result"
    }
   ],
   "source": [
    "cm"
   ]
  },
  {
   "cell_type": "code",
   "execution_count": 20,
   "metadata": {
    "collapsed": false,
    "deletable": true,
    "editable": true
   },
   "outputs": [
    {
     "data": {
      "text/plain": [
       "0.97152454144171074"
      ]
     },
     "execution_count": 20,
     "metadata": {},
     "output_type": "execute_result"
    }
   ],
   "source": [
    "1 - cm[0,1]/cm[0].sum()"
   ]
  },
  {
   "cell_type": "raw",
   "metadata": {
    "deletable": true,
    "editable": true
   },
   "source": [
    "KNN Classifier with parameters no. of neighbors = 6, weights = distance and gives recall accuracy of 91.6% on undersampled data. When used this on entire X data gave a recall accuracy of 97.6% and total accuracy of 96.8%. "
   ]
  },
  {
   "cell_type": "markdown",
   "metadata": {
    "deletable": true,
    "editable": true
   },
   "source": [
    "# Random Forest Classifier"
   ]
  },
  {
   "cell_type": "code",
   "execution_count": 21,
   "metadata": {
    "collapsed": true,
    "deletable": true,
    "editable": true
   },
   "outputs": [],
   "source": [
    "n_estimators = range(1,100)\n",
    "recall = []\n",
    "roc_score = []\n",
    "for n in n_estimators:\n",
    "    from sklearn.ensemble import RandomForestClassifier\n",
    "    rfc = RandomForestClassifier(n_estimators = n)\n",
    "    rfc.fit(X_under_train,y_under_train)\n",
    "    y_pred = rfc.predict(X_under_test)\n",
    "    from sklearn.metrics import recall_score,roc_auc_score\n",
    "    rec = recall_score(y_under_test,y_pred)\n",
    "    roc = roc_auc_score(y_under_test,y_pred)\n",
    "    recall.append(rec)\n",
    "    roc_score.append(roc)"
   ]
  },
  {
   "cell_type": "code",
   "execution_count": 22,
   "metadata": {
    "collapsed": true,
    "deletable": true,
    "editable": true
   },
   "outputs": [],
   "source": [
    "rfc_tabel = pd.DataFrame({\"recall\":recall,\"roc_auc_score\":roc_score})"
   ]
  },
  {
   "cell_type": "code",
   "execution_count": 26,
   "metadata": {
    "collapsed": false,
    "deletable": true,
    "editable": true
   },
   "outputs": [],
   "source": [
    "rfc_tabel.sort_values(by = \"recall\", ascending = False, inplace = True)"
   ]
  },
  {
   "cell_type": "code",
   "execution_count": 27,
   "metadata": {
    "collapsed": false,
    "deletable": true,
    "editable": true
   },
   "outputs": [
    {
     "data": {
      "text/html": [
       "<div>\n",
       "<table border=\"1\" class=\"dataframe\">\n",
       "  <thead>\n",
       "    <tr style=\"text-align: right;\">\n",
       "      <th></th>\n",
       "      <th>recall</th>\n",
       "      <th>roc_auc_score</th>\n",
       "    </tr>\n",
       "  </thead>\n",
       "  <tbody>\n",
       "    <tr>\n",
       "      <th>2</th>\n",
       "      <td>0.919463</td>\n",
       "      <td>0.935922</td>\n",
       "    </tr>\n",
       "    <tr>\n",
       "      <th>6</th>\n",
       "      <td>0.912752</td>\n",
       "      <td>0.922362</td>\n",
       "    </tr>\n",
       "    <tr>\n",
       "      <th>68</th>\n",
       "      <td>0.912752</td>\n",
       "      <td>0.935968</td>\n",
       "    </tr>\n",
       "    <tr>\n",
       "      <th>48</th>\n",
       "      <td>0.912752</td>\n",
       "      <td>0.935968</td>\n",
       "    </tr>\n",
       "    <tr>\n",
       "      <th>80</th>\n",
       "      <td>0.906040</td>\n",
       "      <td>0.932612</td>\n",
       "    </tr>\n",
       "    <tr>\n",
       "      <th>93</th>\n",
       "      <td>0.906040</td>\n",
       "      <td>0.936013</td>\n",
       "    </tr>\n",
       "    <tr>\n",
       "      <th>97</th>\n",
       "      <td>0.906040</td>\n",
       "      <td>0.932612</td>\n",
       "    </tr>\n",
       "    <tr>\n",
       "      <th>46</th>\n",
       "      <td>0.906040</td>\n",
       "      <td>0.936013</td>\n",
       "    </tr>\n",
       "    <tr>\n",
       "      <th>58</th>\n",
       "      <td>0.906040</td>\n",
       "      <td>0.939415</td>\n",
       "    </tr>\n",
       "    <tr>\n",
       "      <th>38</th>\n",
       "      <td>0.906040</td>\n",
       "      <td>0.932612</td>\n",
       "    </tr>\n",
       "    <tr>\n",
       "      <th>36</th>\n",
       "      <td>0.906040</td>\n",
       "      <td>0.936013</td>\n",
       "    </tr>\n",
       "    <tr>\n",
       "      <th>98</th>\n",
       "      <td>0.906040</td>\n",
       "      <td>0.936013</td>\n",
       "    </tr>\n",
       "    <tr>\n",
       "      <th>51</th>\n",
       "      <td>0.899329</td>\n",
       "      <td>0.919052</td>\n",
       "    </tr>\n",
       "    <tr>\n",
       "      <th>23</th>\n",
       "      <td>0.899329</td>\n",
       "      <td>0.925855</td>\n",
       "    </tr>\n",
       "    <tr>\n",
       "      <th>14</th>\n",
       "      <td>0.899329</td>\n",
       "      <td>0.929256</td>\n",
       "    </tr>\n",
       "    <tr>\n",
       "      <th>26</th>\n",
       "      <td>0.899329</td>\n",
       "      <td>0.925855</td>\n",
       "    </tr>\n",
       "    <tr>\n",
       "      <th>27</th>\n",
       "      <td>0.899329</td>\n",
       "      <td>0.936059</td>\n",
       "    </tr>\n",
       "    <tr>\n",
       "      <th>12</th>\n",
       "      <td>0.899329</td>\n",
       "      <td>0.922454</td>\n",
       "    </tr>\n",
       "    <tr>\n",
       "      <th>30</th>\n",
       "      <td>0.899329</td>\n",
       "      <td>0.929256</td>\n",
       "    </tr>\n",
       "    <tr>\n",
       "      <th>91</th>\n",
       "      <td>0.899329</td>\n",
       "      <td>0.929256</td>\n",
       "    </tr>\n",
       "    <tr>\n",
       "      <th>32</th>\n",
       "      <td>0.899329</td>\n",
       "      <td>0.932658</td>\n",
       "    </tr>\n",
       "    <tr>\n",
       "      <th>74</th>\n",
       "      <td>0.899329</td>\n",
       "      <td>0.925855</td>\n",
       "    </tr>\n",
       "    <tr>\n",
       "      <th>34</th>\n",
       "      <td>0.899329</td>\n",
       "      <td>0.936059</td>\n",
       "    </tr>\n",
       "    <tr>\n",
       "      <th>42</th>\n",
       "      <td>0.899329</td>\n",
       "      <td>0.929256</td>\n",
       "    </tr>\n",
       "    <tr>\n",
       "      <th>65</th>\n",
       "      <td>0.899329</td>\n",
       "      <td>0.929256</td>\n",
       "    </tr>\n",
       "    <tr>\n",
       "      <th>60</th>\n",
       "      <td>0.899329</td>\n",
       "      <td>0.922454</td>\n",
       "    </tr>\n",
       "    <tr>\n",
       "      <th>47</th>\n",
       "      <td>0.899329</td>\n",
       "      <td>0.936059</td>\n",
       "    </tr>\n",
       "    <tr>\n",
       "      <th>50</th>\n",
       "      <td>0.899329</td>\n",
       "      <td>0.929256</td>\n",
       "    </tr>\n",
       "    <tr>\n",
       "      <th>59</th>\n",
       "      <td>0.899329</td>\n",
       "      <td>0.932658</td>\n",
       "    </tr>\n",
       "    <tr>\n",
       "      <th>66</th>\n",
       "      <td>0.899329</td>\n",
       "      <td>0.932658</td>\n",
       "    </tr>\n",
       "    <tr>\n",
       "      <th>...</th>\n",
       "      <td>...</td>\n",
       "      <td>...</td>\n",
       "    </tr>\n",
       "    <tr>\n",
       "      <th>57</th>\n",
       "      <td>0.885906</td>\n",
       "      <td>0.922545</td>\n",
       "    </tr>\n",
       "    <tr>\n",
       "      <th>70</th>\n",
       "      <td>0.885906</td>\n",
       "      <td>0.922545</td>\n",
       "    </tr>\n",
       "    <tr>\n",
       "      <th>82</th>\n",
       "      <td>0.885906</td>\n",
       "      <td>0.925946</td>\n",
       "    </tr>\n",
       "    <tr>\n",
       "      <th>84</th>\n",
       "      <td>0.885906</td>\n",
       "      <td>0.925946</td>\n",
       "    </tr>\n",
       "    <tr>\n",
       "      <th>25</th>\n",
       "      <td>0.885906</td>\n",
       "      <td>0.925946</td>\n",
       "    </tr>\n",
       "    <tr>\n",
       "      <th>8</th>\n",
       "      <td>0.885906</td>\n",
       "      <td>0.912341</td>\n",
       "    </tr>\n",
       "    <tr>\n",
       "      <th>67</th>\n",
       "      <td>0.885906</td>\n",
       "      <td>0.922545</td>\n",
       "    </tr>\n",
       "    <tr>\n",
       "      <th>89</th>\n",
       "      <td>0.885906</td>\n",
       "      <td>0.922545</td>\n",
       "    </tr>\n",
       "    <tr>\n",
       "      <th>15</th>\n",
       "      <td>0.885906</td>\n",
       "      <td>0.929348</td>\n",
       "    </tr>\n",
       "    <tr>\n",
       "      <th>88</th>\n",
       "      <td>0.885906</td>\n",
       "      <td>0.922545</td>\n",
       "    </tr>\n",
       "    <tr>\n",
       "      <th>9</th>\n",
       "      <td>0.885906</td>\n",
       "      <td>0.912341</td>\n",
       "    </tr>\n",
       "    <tr>\n",
       "      <th>63</th>\n",
       "      <td>0.885906</td>\n",
       "      <td>0.925946</td>\n",
       "    </tr>\n",
       "    <tr>\n",
       "      <th>19</th>\n",
       "      <td>0.885906</td>\n",
       "      <td>0.922545</td>\n",
       "    </tr>\n",
       "    <tr>\n",
       "      <th>40</th>\n",
       "      <td>0.885906</td>\n",
       "      <td>0.925946</td>\n",
       "    </tr>\n",
       "    <tr>\n",
       "      <th>21</th>\n",
       "      <td>0.885906</td>\n",
       "      <td>0.922545</td>\n",
       "    </tr>\n",
       "    <tr>\n",
       "      <th>22</th>\n",
       "      <td>0.885906</td>\n",
       "      <td>0.919143</td>\n",
       "    </tr>\n",
       "    <tr>\n",
       "      <th>61</th>\n",
       "      <td>0.879195</td>\n",
       "      <td>0.922591</td>\n",
       "    </tr>\n",
       "    <tr>\n",
       "      <th>5</th>\n",
       "      <td>0.879195</td>\n",
       "      <td>0.912386</td>\n",
       "    </tr>\n",
       "    <tr>\n",
       "      <th>95</th>\n",
       "      <td>0.879195</td>\n",
       "      <td>0.922591</td>\n",
       "    </tr>\n",
       "    <tr>\n",
       "      <th>41</th>\n",
       "      <td>0.879195</td>\n",
       "      <td>0.919189</td>\n",
       "    </tr>\n",
       "    <tr>\n",
       "      <th>13</th>\n",
       "      <td>0.879195</td>\n",
       "      <td>0.915788</td>\n",
       "    </tr>\n",
       "    <tr>\n",
       "      <th>75</th>\n",
       "      <td>0.879195</td>\n",
       "      <td>0.919189</td>\n",
       "    </tr>\n",
       "    <tr>\n",
       "      <th>72</th>\n",
       "      <td>0.879195</td>\n",
       "      <td>0.915788</td>\n",
       "    </tr>\n",
       "    <tr>\n",
       "      <th>7</th>\n",
       "      <td>0.872483</td>\n",
       "      <td>0.926038</td>\n",
       "    </tr>\n",
       "    <tr>\n",
       "      <th>44</th>\n",
       "      <td>0.872483</td>\n",
       "      <td>0.912432</td>\n",
       "    </tr>\n",
       "    <tr>\n",
       "      <th>29</th>\n",
       "      <td>0.865772</td>\n",
       "      <td>0.915879</td>\n",
       "    </tr>\n",
       "    <tr>\n",
       "      <th>3</th>\n",
       "      <td>0.859060</td>\n",
       "      <td>0.915925</td>\n",
       "    </tr>\n",
       "    <tr>\n",
       "      <th>17</th>\n",
       "      <td>0.859060</td>\n",
       "      <td>0.915925</td>\n",
       "    </tr>\n",
       "    <tr>\n",
       "      <th>0</th>\n",
       "      <td>0.838926</td>\n",
       "      <td>0.851436</td>\n",
       "    </tr>\n",
       "    <tr>\n",
       "      <th>1</th>\n",
       "      <td>0.791946</td>\n",
       "      <td>0.885769</td>\n",
       "    </tr>\n",
       "  </tbody>\n",
       "</table>\n",
       "<p>99 rows × 2 columns</p>\n",
       "</div>"
      ],
      "text/plain": [
       "      recall  roc_auc_score\n",
       "2   0.919463       0.935922\n",
       "6   0.912752       0.922362\n",
       "68  0.912752       0.935968\n",
       "48  0.912752       0.935968\n",
       "80  0.906040       0.932612\n",
       "93  0.906040       0.936013\n",
       "97  0.906040       0.932612\n",
       "46  0.906040       0.936013\n",
       "58  0.906040       0.939415\n",
       "38  0.906040       0.932612\n",
       "36  0.906040       0.936013\n",
       "98  0.906040       0.936013\n",
       "51  0.899329       0.919052\n",
       "23  0.899329       0.925855\n",
       "14  0.899329       0.929256\n",
       "26  0.899329       0.925855\n",
       "27  0.899329       0.936059\n",
       "12  0.899329       0.922454\n",
       "30  0.899329       0.929256\n",
       "91  0.899329       0.929256\n",
       "32  0.899329       0.932658\n",
       "74  0.899329       0.925855\n",
       "34  0.899329       0.936059\n",
       "42  0.899329       0.929256\n",
       "65  0.899329       0.929256\n",
       "60  0.899329       0.922454\n",
       "47  0.899329       0.936059\n",
       "50  0.899329       0.929256\n",
       "59  0.899329       0.932658\n",
       "66  0.899329       0.932658\n",
       "..       ...            ...\n",
       "57  0.885906       0.922545\n",
       "70  0.885906       0.922545\n",
       "82  0.885906       0.925946\n",
       "84  0.885906       0.925946\n",
       "25  0.885906       0.925946\n",
       "8   0.885906       0.912341\n",
       "67  0.885906       0.922545\n",
       "89  0.885906       0.922545\n",
       "15  0.885906       0.929348\n",
       "88  0.885906       0.922545\n",
       "9   0.885906       0.912341\n",
       "63  0.885906       0.925946\n",
       "19  0.885906       0.922545\n",
       "40  0.885906       0.925946\n",
       "21  0.885906       0.922545\n",
       "22  0.885906       0.919143\n",
       "61  0.879195       0.922591\n",
       "5   0.879195       0.912386\n",
       "95  0.879195       0.922591\n",
       "41  0.879195       0.919189\n",
       "13  0.879195       0.915788\n",
       "75  0.879195       0.919189\n",
       "72  0.879195       0.915788\n",
       "7   0.872483       0.926038\n",
       "44  0.872483       0.912432\n",
       "29  0.865772       0.915879\n",
       "3   0.859060       0.915925\n",
       "17  0.859060       0.915925\n",
       "0   0.838926       0.851436\n",
       "1   0.791946       0.885769\n",
       "\n",
       "[99 rows x 2 columns]"
      ]
     },
     "execution_count": 27,
     "metadata": {},
     "output_type": "execute_result"
    }
   ],
   "source": [
    "rfc_tabel"
   ]
  },
  {
   "cell_type": "code",
   "execution_count": 64,
   "metadata": {
    "collapsed": false,
    "deletable": true,
    "editable": true
   },
   "outputs": [
    {
     "data": {
      "image/png": "[encoded data removed]",
      "text/plain": [
       "<matplotlib.figure.Figure at 0x7f6bcedb12e8>"
      ]
     },
     "metadata": {},
     "output_type": "display_data"
    }
   ],
   "source": [
    "#Optimizing Threshold value\n",
    "Threshold = [0.1,0.2,0.3,0.4,0.5,0.6,0.7,0.8,0.9]\n",
    "from sklearn.ensemble import RandomForestClassifier\n",
    "rfc_best = RandomForestClassifier(n_estimators = 49)\n",
    "rfc_best.fit(X_under_train,y_under_train)\n",
    "y_pred = rfc_best.predict(X_under_test)\n",
    "y_pred_prob = rfc_best.predict_proba(X_under_test)\n",
    "plt.figure(figsize = (10,10))\n",
    "precision_rfc = []\n",
    "recall_rfc = []\n",
    "for i in Threshold :\n",
    "    y_pred = y_pred_prob[:,1] > i\n",
    "    from sklearn.metrics import precision_recall_curve\n",
    "    precision,recall, thresholds = precision_recall_curve(y_true = y_under_test,probas_pred = y_pred)\n",
    "    precision_rfc.append(precision[1])\n",
    "    recall_rfc.append(recall[1])\n",
    "    plt.plot(recall,precision, label = \"Threshold %s\"%i)\n",
    "    plt.xlim(0,1.1)\n",
    "    plt.ylim(0,1.1)\n",
    "    plt.legend(loc = \"center\")"
   ]
  },
  {
   "cell_type": "code",
   "execution_count": 65,
   "metadata": {
    "collapsed": false,
    "deletable": true,
    "editable": true
   },
   "outputs": [
    {
     "data": {
      "text/html": [
       "<div>\n",
       "<table border=\"1\" class=\"dataframe\">\n",
       "  <thead>\n",
       "    <tr style=\"text-align: right;\">\n",
       "      <th></th>\n",
       "      <th>precision</th>\n",
       "      <th>recall</th>\n",
       "    </tr>\n",
       "    <tr>\n",
       "      <th>Threshold Values</th>\n",
       "      <th></th>\n",
       "      <th></th>\n",
       "    </tr>\n",
       "  </thead>\n",
       "  <tbody>\n",
       "    <tr>\n",
       "      <th>0.1</th>\n",
       "      <td>0.752577</td>\n",
       "      <td>0.979866</td>\n",
       "    </tr>\n",
       "    <tr>\n",
       "      <th>0.2</th>\n",
       "      <td>0.795455</td>\n",
       "      <td>0.939597</td>\n",
       "    </tr>\n",
       "    <tr>\n",
       "      <th>0.3</th>\n",
       "      <td>0.885350</td>\n",
       "      <td>0.932886</td>\n",
       "    </tr>\n",
       "    <tr>\n",
       "      <th>0.4</th>\n",
       "      <td>0.918919</td>\n",
       "      <td>0.912752</td>\n",
       "    </tr>\n",
       "    <tr>\n",
       "      <th>0.5</th>\n",
       "      <td>0.970803</td>\n",
       "      <td>0.892617</td>\n",
       "    </tr>\n",
       "    <tr>\n",
       "      <th>0.6</th>\n",
       "      <td>0.977444</td>\n",
       "      <td>0.872483</td>\n",
       "    </tr>\n",
       "    <tr>\n",
       "      <th>0.7</th>\n",
       "      <td>0.984375</td>\n",
       "      <td>0.845638</td>\n",
       "    </tr>\n",
       "    <tr>\n",
       "      <th>0.8</th>\n",
       "      <td>1.000000</td>\n",
       "      <td>0.825503</td>\n",
       "    </tr>\n",
       "    <tr>\n",
       "      <th>0.9</th>\n",
       "      <td>1.000000</td>\n",
       "      <td>0.778523</td>\n",
       "    </tr>\n",
       "  </tbody>\n",
       "</table>\n",
       "</div>"
      ],
      "text/plain": [
       "                  precision    recall\n",
       "Threshold Values                     \n",
       "0.1                0.752577  0.979866\n",
       "0.2                0.795455  0.939597\n",
       "0.3                0.885350  0.932886\n",
       "0.4                0.918919  0.912752\n",
       "0.5                0.970803  0.892617\n",
       "0.6                0.977444  0.872483\n",
       "0.7                0.984375  0.845638\n",
       "0.8                1.000000  0.825503\n",
       "0.9                1.000000  0.778523"
      ]
     },
     "execution_count": 65,
     "metadata": {},
     "output_type": "execute_result"
    }
   ],
   "source": [
    "rfc_best_tabel = pd.DataFrame({\"precision\":precision_rfc,\"recall\":recall_rfc}, index = Threshold)\n",
    "rfc_best_tabel.index.name = \"Threshold Values\"\n",
    "rfc_best_tabel"
   ]
  },
  {
   "cell_type": "code",
   "execution_count": 43,
   "metadata": {
    "collapsed": false,
    "deletable": true,
    "editable": true
   },
   "outputs": [
    {
     "data": {
      "text/plain": [
       "(0.016210060955187889, 0.98373983739837401)"
      ]
     },
     "execution_count": 43,
     "metadata": {},
     "output_type": "execute_result"
    }
   ],
   "source": [
    "from sklearn.ensemble import RandomForestClassifier\n",
    "rfc_best = RandomForestClassifier(n_estimators = 49)\n",
    "rfc_best.fit(X_under_train,y_under_train)\n",
    "y_pred = rfc_best.predict(X_std)\n",
    "y_pred_prob = rfc_best.predict_proba(X_std)\n",
    "y_pred = y_pred_prob[:,1] > 0.3\n",
    "from sklearn.metrics import precision_recall_curve\n",
    "precision,recall, thresholds = precision_recall_curve(y_true = y,probas_pred = y_pred)\n",
    "precision[1], recall[1]"
   ]
  },
  {
   "cell_type": "code",
   "execution_count": 44,
   "metadata": {
    "collapsed": true,
    "deletable": true,
    "editable": true
   },
   "outputs": [],
   "source": [
    "from sklearn.metrics import confusion_matrix\n",
    "cm = confusion_matrix(y,rfc_best.predict(X_std))"
   ]
  },
  {
   "cell_type": "code",
   "execution_count": 45,
   "metadata": {
    "collapsed": false,
    "deletable": true,
    "editable": true
   },
   "outputs": [
    {
     "data": {
      "text/plain": [
       "array([[275996,   8319],\n",
       "       [    16,    476]])"
      ]
     },
     "execution_count": 45,
     "metadata": {},
     "output_type": "execute_result"
    }
   ],
   "source": [
    "cm"
   ]
  },
  {
   "cell_type": "code",
   "execution_count": 46,
   "metadata": {
    "collapsed": false,
    "deletable": true,
    "editable": true
   },
   "outputs": [
    {
     "data": {
      "text/plain": [
       "0.97073456761947563"
      ]
     },
     "execution_count": 46,
     "metadata": {},
     "output_type": "execute_result"
    }
   ],
   "source": [
    "rfc_best.score(X_std,y)"
   ]
  },
  {
   "cell_type": "markdown",
   "metadata": {
    "collapsed": true,
    "deletable": true,
    "editable": true
   },
   "source": [
    "# SVM Models"
   ]
  },
  {
   "cell_type": "code",
   "execution_count": 22,
   "metadata": {
    "collapsed": false,
    "deletable": true,
    "editable": true
   },
   "outputs": [],
   "source": [
    "from sklearn.svm import SVC\n",
    "svc = SVC(kernel = \"rbf\")"
   ]
  },
  {
   "cell_type": "code",
   "execution_count": 24,
   "metadata": {
    "collapsed": false,
    "deletable": true,
    "editable": true
   },
   "outputs": [
    {
     "data": {
      "text/plain": [
       "GridSearchCV(cv=ShuffleSplit(n_splits=10, random_state=None, test_size=0.2, train_size=None),\n",
       "       error_score='raise',\n",
       "       estimator=SVC(C=1.0, cache_size=200, class_weight=None, coef0=0.0,\n",
       "  decision_function_shape=None, degree=3, gamma='auto', kernel='rbf',\n",
       "  max_iter=-1, probability=False, random_state=None, shrinking=True,\n",
       "  tol=0.001, verbose=False),\n",
       "       fit_params={}, iid=True, n_jobs=1,\n",
       "       param_grid={'C': [0.01, 0.1, 1, 10, 100], 'kernel': ['rbf'], 'random_state': [0], 'gamma': [0.1, 0.2, 0.3, 0.4, 0.5, 0.6, 0.7, 0.8, 0.9]},\n",
       "       pre_dispatch='2*n_jobs', refit=True, return_train_score=True,\n",
       "       scoring=None, verbose=0)"
      ]
     },
     "execution_count": 24,
     "metadata": {},
     "output_type": "execute_result"
    }
   ],
   "source": [
    "from sklearn.model_selection import GridSearchCV\n",
    "parameters = {\"kernel\":[\"rbf\"], \"C\":[0.01,0.1,1,10,100], \"gamma\":[0.1,0.2,0.3,0.4,0.5,0.6,0.7,0.8,0.9],\"random_state\":[0]}\n",
    "svc_model =GridSearchCV(svc,parameters,cv = cv)\n",
    "svc_model.fit(X_under_train,y_under_train)"
   ]
  },
  {
   "cell_type": "code",
   "execution_count": 25,
   "metadata": {
    "collapsed": false,
    "deletable": true,
    "editable": true
   },
   "outputs": [
    {
     "data": {
      "text/plain": [
       "0.92971014492753623"
      ]
     },
     "execution_count": 25,
     "metadata": {},
     "output_type": "execute_result"
    }
   ],
   "source": [
    "svc_model.best_score_"
   ]
  },
  {
   "cell_type": "code",
   "execution_count": 26,
   "metadata": {
    "collapsed": false,
    "deletable": true,
    "editable": true
   },
   "outputs": [
    {
     "data": {
      "text/plain": [
       "{'C': 1, 'gamma': 0.1, 'kernel': 'rbf', 'random_state': 0}"
      ]
     },
     "execution_count": 26,
     "metadata": {},
     "output_type": "execute_result"
    }
   ],
   "source": [
    "svc_model.best_params_"
   ]
  },
  {
   "cell_type": "code",
   "execution_count": 33,
   "metadata": {
    "collapsed": false,
    "deletable": true,
    "editable": true
   },
   "outputs": [
    {
     "name": "stdout",
     "output_type": "stream",
     "text": [
      "                       recall       roc\n",
      "gamma with C = 0.01                    \n",
      "0.2                  0.000000  0.500000\n",
      "0.3                  0.000000  0.500000\n",
      "0.4                  0.000000  0.500000\n",
      "0.5                  0.000000  0.500000\n",
      "0.6                  0.000000  0.500000\n",
      "0.7                  0.000000  0.500000\n",
      "0.8                  0.000000  0.500000\n",
      "0.9                  0.000000  0.500000\n",
      "0.1                  0.731544  0.838561\n",
      "                      recall       roc\n",
      "gamma with C = 0.1                    \n",
      "0.9                 0.040268  0.520134\n",
      "0.8                 0.073826  0.536913\n",
      "0.1                 0.892617  0.905492\n",
      "0.2                 0.926174  0.840638\n",
      "0.3                 0.953020  0.721408\n",
      "0.7                 0.953020  0.728211\n",
      "0.4                 0.959732  0.670342\n",
      "0.5                 0.973154  0.609026\n",
      "0.6                 0.973154  0.609026\n",
      "                    recall       roc\n",
      "gamma with C = 1                    \n",
      "0.1               0.879195  0.912386\n",
      "0.2               0.912752  0.915560\n",
      "0.3               0.912752  0.905355\n",
      "0.4               0.912752  0.850934\n",
      "0.5               0.932886  0.837191\n",
      "0.6               0.939597  0.820139\n",
      "0.7               0.946309  0.806488\n",
      "0.8               0.946309  0.796284\n",
      "0.9               0.946309  0.775875\n",
      "                     recall       roc\n",
      "gamma with C = 10                    \n",
      "0.1                0.912752  0.915560\n",
      "0.2                0.912752  0.898553\n",
      "0.3                0.919463  0.891704\n",
      "0.4                0.919463  0.864493\n",
      "0.5                0.919463  0.840684\n",
      "0.6                0.932886  0.826987\n",
      "0.7                0.939597  0.809935\n",
      "0.8                0.946309  0.799685\n",
      "0.9                0.946309  0.803086\n",
      "                      recall       roc\n",
      "gamma with C = 100                    \n",
      "0.1                 0.912752  0.895151\n",
      "0.2                 0.912752  0.898553\n",
      "0.4                 0.919463  0.864493\n",
      "0.5                 0.919463  0.840684\n",
      "0.3                 0.926174  0.895060\n",
      "0.6                 0.932886  0.826987\n",
      "0.7                 0.939597  0.809935\n",
      "0.8                 0.946309  0.799685\n",
      "0.9                 0.946309  0.803086\n"
     ]
    }
   ],
   "source": [
    "C = [0.01,0.1,1,10,100]\n",
    "for c in C:\n",
    "    recall = []\n",
    "    roc = []\n",
    "    gamma = [0.1,0.2,0.3,0.4,0.5,0.6,0.7,0.8,0.9] \n",
    "    for g in gamma :\n",
    "        from sklearn.svm import SVC\n",
    "        svc = SVC(kernel = \"rbf\", C = c, gamma = g,random_state = 0)\n",
    "        svc.fit(X_under_train,y_under_train)\n",
    "        y_pred = svc.predict(X_under_test)\n",
    "        from sklearn.metrics import recall_score,roc_auc_score\n",
    "        rec = recall_score(y_under_test,y_pred)\n",
    "        roc_auc = roc_auc_score(y_under_test,y_pred)\n",
    "        recall.append(rec)\n",
    "        roc.append(roc_auc)\n",
    "    svc_tabel = pd.DataFrame({\"recall\":recall,\"roc\":roc}, index = gamma)\n",
    "    svc_tabel.index.name = \"gamma with C = %s\"%c\n",
    "    svc_tabel.sort_values(by = \"recall\", inplace = True)\n",
    "    print (svc_tabel)"
   ]
  },
  {
   "cell_type": "raw",
   "metadata": {
    "deletable": true,
    "editable": true
   },
   "source": [
    "Optimal parameters are C = 0.1, gamma = 0.7 "
   ]
  },
  {
   "cell_type": "code",
   "execution_count": 34,
   "metadata": {
    "collapsed": false,
    "deletable": true,
    "editable": true
   },
   "outputs": [
    {
     "data": {
      "text/plain": [
       "(0.66046511627906979, 0.95302013422818788)"
      ]
     },
     "execution_count": 34,
     "metadata": {},
     "output_type": "execute_result"
    }
   ],
   "source": [
    "from sklearn.svm import SVC\n",
    "svc_best = SVC(kernel = \"rbf\", C = 0.1, gamma = 0.7, random_state = 0)\n",
    "svc_best.fit(X_under_train,y_under_train)\n",
    "y_pred = svc_best.predict(X_under_test)\n",
    "from sklearn.metrics import precision_recall_curve\n",
    "precision, recall, thresholds = precision_recall_curve(y_under_test,y_pred)\n",
    "precision[1], recall[1]"
   ]
  },
  {
   "cell_type": "code",
   "execution_count": 35,
   "metadata": {
    "collapsed": false,
    "deletable": true,
    "editable": true
   },
   "outputs": [
    {
     "data": {
      "text/plain": [
       "array([[ 74,  73],\n",
       "       [  7, 142]])"
      ]
     },
     "execution_count": 35,
     "metadata": {},
     "output_type": "execute_result"
    }
   ],
   "source": [
    "from sklearn.metrics import confusion_matrix\n",
    "cm = confusion_matrix(y_under_test,y_pred)\n",
    "cm"
   ]
  },
  {
   "cell_type": "code",
   "execution_count": 36,
   "metadata": {
    "collapsed": false,
    "deletable": true,
    "editable": true
   },
   "outputs": [
    {
     "data": {
      "text/plain": [
       "(0.0035899631240189564, 0.97154471544715448)"
      ]
     },
     "execution_count": 36,
     "metadata": {},
     "output_type": "execute_result"
    }
   ],
   "source": [
    "y_pred = svc_best.predict(X_std)\n",
    "from sklearn.metrics import precision_recall_curve\n",
    "precision, recall, thresholds = precision_recall_curve(y,y_pred)\n",
    "precision[1], recall[1]"
   ]
  },
  {
   "cell_type": "code",
   "execution_count": 37,
   "metadata": {
    "collapsed": false,
    "deletable": true,
    "editable": true
   },
   "outputs": [
    {
     "data": {
      "text/plain": [
       "array([[151644, 132671],\n",
       "       [    14,    478]])"
      ]
     },
     "execution_count": 37,
     "metadata": {},
     "output_type": "execute_result"
    }
   ],
   "source": [
    "from sklearn.metrics import confusion_matrix\n",
    "cm = confusion_matrix(y,y_pred)\n",
    "cm"
   ]
  },
  {
   "cell_type": "code",
   "execution_count": 38,
   "metadata": {
    "collapsed": false,
    "deletable": true,
    "editable": true
   },
   "outputs": [
    {
     "data": {
      "text/plain": [
       "(0.90066225165562919, 0.91275167785234901)"
      ]
     },
     "execution_count": 38,
     "metadata": {},
     "output_type": "execute_result"
    }
   ],
   "source": [
    "from sklearn.svm import SVC\n",
    "svc_best = SVC(kernel = \"rbf\", C = 1, gamma = 0.3, random_state = 0)\n",
    "svc_best.fit(X_under_train,y_under_train)\n",
    "y_pred = svc_best.predict(X_under_test)\n",
    "from sklearn.metrics import precision_recall_curve\n",
    "precision, recall, thresholds = precision_recall_curve(y_under_test,y_pred)\n",
    "precision[1], recall[1]"
   ]
  },
  {
   "cell_type": "code",
   "execution_count": 39,
   "metadata": {
    "collapsed": false,
    "deletable": true,
    "editable": true
   },
   "outputs": [
    {
     "data": {
      "text/plain": [
       "array([[132,  15],\n",
       "       [ 13, 136]])"
      ]
     },
     "execution_count": 39,
     "metadata": {},
     "output_type": "execute_result"
    }
   ],
   "source": [
    "from sklearn.metrics import confusion_matrix\n",
    "cm = confusion_matrix(y_under_test,y_pred)\n",
    "cm"
   ]
  },
  {
   "cell_type": "code",
   "execution_count": 40,
   "metadata": {
    "collapsed": false,
    "deletable": true,
    "editable": true
   },
   "outputs": [
    {
     "data": {
      "text/plain": [
       "(0.013409357898054497, 0.95121951219512191)"
      ]
     },
     "execution_count": 40,
     "metadata": {},
     "output_type": "execute_result"
    }
   ],
   "source": [
    "y_pred = svc_best.predict(X_std)\n",
    "from sklearn.metrics import precision_recall_curve\n",
    "precision, recall, thresholds = precision_recall_curve(y,y_pred)\n",
    "precision[1], recall[1]"
   ]
  },
  {
   "cell_type": "code",
   "execution_count": 41,
   "metadata": {
    "collapsed": false,
    "deletable": true,
    "editable": true
   },
   "outputs": [
    {
     "data": {
      "text/plain": [
       "array([[249882,  34433],\n",
       "       [    24,    468]])"
      ]
     },
     "execution_count": 41,
     "metadata": {},
     "output_type": "execute_result"
    }
   ],
   "source": [
    "from sklearn.metrics import confusion_matrix\n",
    "cm = confusion_matrix(y,y_pred)\n",
    "cm"
   ]
  },
  {
   "cell_type": "code",
   "execution_count": 42,
   "metadata": {
    "collapsed": false,
    "deletable": true,
    "editable": true
   },
   "outputs": [
    {
     "data": {
      "text/plain": [
       "0.12110862951304012"
      ]
     },
     "execution_count": 42,
     "metadata": {},
     "output_type": "execute_result"
    }
   ],
   "source": [
    "34433/(34433+249882)"
   ]
  },
  {
   "cell_type": "raw",
   "metadata": {
    "deletable": true,
    "editable": true
   },
   "source": [
    "SVC model gives best recall accuracy of 95% on overall dataset for parameters kernel = \"rbf\", C = 1, gamma = 0.3, random_state = 0 "
   ]
  },
  {
   "cell_type": "code",
   "execution_count": 60,
   "metadata": {
    "collapsed": false,
    "deletable": true,
    "editable": true
   },
   "outputs": [
    {
     "name": "stdout",
     "output_type": "stream",
     "text": [
      "                               recall       roc\n",
      "SVC with C =0.01gamma = 0.1                    \n",
      "0                            0.342282  0.660937\n",
      "1                            0.342282  0.660937\n",
      "2                            0.342282  0.660937\n",
      "3                            0.342282  0.660937\n",
      "4                            0.342282  0.660937\n",
      "5                            0.342282  0.660937\n",
      "6                            0.342282  0.660937\n",
      "7                            0.342282  0.660937\n",
      "8                            0.342282  0.660937\n",
      "9                            0.342282  0.660937\n",
      "10                           0.342282  0.660937\n",
      "                               recall       roc\n",
      "SVC with C =0.01gamma = 0.2                    \n",
      "0                            0.812081  0.858421\n",
      "1                            0.812081  0.858421\n",
      "2                            0.812081  0.858421\n",
      "3                            0.812081  0.858421\n",
      "4                            0.812081  0.858421\n",
      "5                            0.812081  0.858421\n",
      "6                            0.812081  0.858421\n",
      "7                            0.812081  0.858421\n",
      "8                            0.812081  0.858421\n",
      "9                            0.812081  0.858421\n",
      "10                           0.812081  0.858421\n",
      "                               recall       roc\n",
      "SVC with C =0.01gamma = 0.3                    \n",
      "0                            0.798658  0.824499\n",
      "1                            0.798658  0.824499\n",
      "2                            0.798658  0.824499\n",
      "3                            0.798658  0.824499\n",
      "4                            0.798658  0.824499\n",
      "5                            0.798658  0.824499\n",
      "6                            0.798658  0.824499\n",
      "7                            0.798658  0.824499\n",
      "8                            0.798658  0.824499\n",
      "9                            0.798658  0.824499\n",
      "10                           0.798658  0.824499\n",
      "                               recall       roc\n",
      "SVC with C =0.01gamma = 0.4                    \n",
      "0                            0.785235  0.817788\n",
      "1                            0.785235  0.817788\n",
      "2                            0.785235  0.817788\n",
      "3                            0.785235  0.817788\n",
      "4                            0.785235  0.817788\n",
      "5                            0.785235  0.817788\n",
      "6                            0.785235  0.817788\n",
      "7                            0.785235  0.817788\n",
      "8                            0.785235  0.817788\n",
      "9                            0.785235  0.817788\n",
      "10                           0.785235  0.817788\n",
      "                               recall       roc\n",
      "SVC with C =0.01gamma = 0.5                    \n",
      "0                            0.785235  0.817788\n",
      "1                            0.785235  0.817788\n",
      "2                            0.785235  0.817788\n",
      "3                            0.785235  0.817788\n",
      "4                            0.785235  0.817788\n",
      "5                            0.785235  0.817788\n",
      "6                            0.785235  0.817788\n",
      "7                            0.785235  0.817788\n",
      "8                            0.785235  0.817788\n",
      "9                            0.785235  0.817788\n",
      "10                           0.785235  0.817788\n",
      "                               recall       roc\n",
      "SVC with C =0.01gamma = 0.6                    \n",
      "0                            0.785235  0.817788\n",
      "1                            0.785235  0.817788\n",
      "2                            0.785235  0.817788\n",
      "3                            0.785235  0.817788\n",
      "4                            0.785235  0.817788\n",
      "5                            0.785235  0.817788\n",
      "6                            0.785235  0.817788\n",
      "7                            0.785235  0.817788\n",
      "8                            0.785235  0.817788\n",
      "9                            0.785235  0.817788\n",
      "10                           0.785235  0.817788\n",
      "                               recall       roc\n",
      "SVC with C =0.01gamma = 0.7                    \n",
      "0                            0.785235  0.817788\n",
      "1                            0.785235  0.817788\n",
      "2                            0.785235  0.817788\n",
      "3                            0.785235  0.817788\n",
      "4                            0.785235  0.817788\n",
      "5                            0.785235  0.817788\n",
      "6                            0.785235  0.817788\n",
      "7                            0.785235  0.817788\n",
      "8                            0.785235  0.817788\n",
      "9                            0.785235  0.817788\n",
      "10                           0.785235  0.817788\n",
      "                               recall       roc\n",
      "SVC with C =0.01gamma = 0.8                    \n",
      "0                            0.785235  0.817788\n",
      "1                            0.785235  0.817788\n",
      "2                            0.785235  0.817788\n",
      "3                            0.785235  0.817788\n",
      "4                            0.785235  0.817788\n",
      "5                            0.785235  0.817788\n",
      "6                            0.785235  0.817788\n",
      "7                            0.785235  0.817788\n",
      "8                            0.785235  0.817788\n",
      "9                            0.785235  0.817788\n",
      "10                           0.785235  0.817788\n",
      "                               recall       roc\n",
      "SVC with C =0.01gamma = 0.9                    \n",
      "0                            0.785235  0.817788\n",
      "1                            0.785235  0.817788\n",
      "2                            0.785235  0.817788\n",
      "3                            0.785235  0.817788\n",
      "4                            0.785235  0.817788\n",
      "5                            0.785235  0.817788\n",
      "6                            0.785235  0.817788\n",
      "7                            0.785235  0.817788\n",
      "8                            0.785235  0.817788\n",
      "9                            0.785235  0.817788\n",
      "10                           0.785235  0.817788\n",
      "                              recall       roc\n",
      "SVC with C =0.1gamma = 0.1                    \n",
      "0                           0.402685  0.677533\n",
      "1                           0.402685  0.677533\n",
      "2                           0.402685  0.677533\n",
      "3                           0.402685  0.677533\n",
      "4                           0.402685  0.677533\n",
      "5                           0.402685  0.677533\n",
      "6                           0.402685  0.677533\n",
      "7                           0.402685  0.677533\n",
      "8                           0.402685  0.677533\n",
      "9                           0.402685  0.677533\n",
      "10                          0.402685  0.677533\n",
      "                              recall     roc\n",
      "SVC with C =0.1gamma = 0.2                  \n",
      "0                           0.798658  0.8279\n",
      "1                           0.798658  0.8279\n",
      "2                           0.798658  0.8279\n",
      "3                           0.798658  0.8279\n",
      "4                           0.798658  0.8279\n",
      "5                           0.798658  0.8279\n",
      "6                           0.798658  0.8279\n",
      "7                           0.798658  0.8279\n",
      "8                           0.798658  0.8279\n",
      "9                           0.798658  0.8279\n",
      "10                          0.798658  0.8279\n",
      "                              recall       roc\n",
      "SVC with C =0.1gamma = 0.3                    \n",
      "0                           0.785235  0.817788\n",
      "1                           0.785235  0.817788\n",
      "2                           0.785235  0.817788\n",
      "3                           0.785235  0.817788\n",
      "4                           0.785235  0.817788\n",
      "5                           0.785235  0.817788\n",
      "6                           0.785235  0.817788\n",
      "7                           0.785235  0.817788\n",
      "8                           0.785235  0.817788\n",
      "9                           0.785235  0.817788\n",
      "10                          0.785235  0.817788\n",
      "                              recall       roc\n",
      "SVC with C =0.1gamma = 0.4                    \n",
      "0                           0.785235  0.817788\n",
      "1                           0.785235  0.817788\n",
      "2                           0.785235  0.817788\n",
      "3                           0.785235  0.817788\n",
      "4                           0.785235  0.817788\n",
      "5                           0.785235  0.817788\n",
      "6                           0.785235  0.817788\n",
      "7                           0.785235  0.817788\n",
      "8                           0.785235  0.817788\n",
      "9                           0.785235  0.817788\n",
      "10                          0.785235  0.817788\n",
      "                              recall       roc\n",
      "SVC with C =0.1gamma = 0.5                    \n",
      "0                           0.785235  0.817788\n",
      "1                           0.785235  0.817788\n",
      "2                           0.785235  0.817788\n",
      "3                           0.785235  0.817788\n",
      "4                           0.785235  0.817788\n",
      "5                           0.785235  0.817788\n",
      "6                           0.785235  0.817788\n",
      "7                           0.785235  0.817788\n",
      "8                           0.785235  0.817788\n",
      "9                           0.785235  0.817788\n",
      "10                          0.785235  0.817788\n",
      "                              recall       roc\n",
      "SVC with C =0.1gamma = 0.6                    \n",
      "0                           0.785235  0.817788\n",
      "1                           0.785235  0.817788\n",
      "2                           0.785235  0.817788\n",
      "3                           0.785235  0.817788\n",
      "4                           0.785235  0.817788\n",
      "5                           0.785235  0.817788\n",
      "6                           0.785235  0.817788\n",
      "7                           0.785235  0.817788\n",
      "8                           0.785235  0.817788\n",
      "9                           0.785235  0.817788\n",
      "10                          0.785235  0.817788\n",
      "                              recall       roc\n",
      "SVC with C =0.1gamma = 0.7                    \n",
      "0                           0.785235  0.817788\n",
      "1                           0.785235  0.817788\n",
      "2                           0.785235  0.817788\n",
      "3                           0.785235  0.817788\n",
      "4                           0.785235  0.817788\n",
      "5                           0.785235  0.817788\n",
      "6                           0.785235  0.817788\n",
      "7                           0.785235  0.817788\n",
      "8                           0.785235  0.817788\n",
      "9                           0.785235  0.817788\n",
      "10                          0.785235  0.817788\n",
      "                              recall       roc\n",
      "SVC with C =0.1gamma = 0.8                    \n",
      "0                           0.785235  0.817788\n",
      "1                           0.785235  0.817788\n",
      "2                           0.785235  0.817788\n",
      "3                           0.785235  0.817788\n",
      "4                           0.785235  0.817788\n",
      "5                           0.785235  0.817788\n",
      "6                           0.785235  0.817788\n",
      "7                           0.785235  0.817788\n",
      "8                           0.785235  0.817788\n",
      "9                           0.785235  0.817788\n",
      "10                          0.785235  0.817788\n",
      "                              recall       roc\n",
      "SVC with C =0.1gamma = 0.9                    \n",
      "0                           0.785235  0.817788\n",
      "1                           0.785235  0.817788\n",
      "2                           0.785235  0.817788\n",
      "3                           0.785235  0.817788\n",
      "4                           0.785235  0.817788\n",
      "5                           0.785235  0.817788\n",
      "6                           0.785235  0.817788\n",
      "7                           0.785235  0.817788\n",
      "8                           0.785235  0.817788\n",
      "9                           0.785235  0.817788\n",
      "10                          0.785235  0.817788\n",
      "                            recall       roc\n",
      "SVC with C =1gamma = 0.1                    \n",
      "0                         0.469799  0.697484\n",
      "1                         0.469799  0.697484\n",
      "2                         0.469799  0.697484\n",
      "3                         0.469799  0.697484\n",
      "4                         0.469799  0.697484\n",
      "5                         0.469799  0.697484\n",
      "6                         0.469799  0.697484\n",
      "7                         0.469799  0.697484\n",
      "8                         0.469799  0.697484\n",
      "9                         0.469799  0.697484\n",
      "10                        0.469799  0.697484\n",
      "                            recall       roc\n",
      "SVC with C =1gamma = 0.2                    \n",
      "0                         0.785235  0.817788\n",
      "1                         0.785235  0.817788\n",
      "2                         0.785235  0.817788\n",
      "3                         0.785235  0.817788\n",
      "4                         0.785235  0.817788\n",
      "5                         0.785235  0.817788\n",
      "6                         0.785235  0.817788\n",
      "7                         0.785235  0.817788\n",
      "8                         0.785235  0.817788\n",
      "9                         0.785235  0.817788\n",
      "10                        0.785235  0.817788\n",
      "                            recall       roc\n",
      "SVC with C =1gamma = 0.3                    \n",
      "0                         0.785235  0.817788\n",
      "1                         0.785235  0.817788\n",
      "2                         0.785235  0.817788\n",
      "3                         0.785235  0.817788\n",
      "4                         0.785235  0.817788\n",
      "5                         0.785235  0.817788\n",
      "6                         0.785235  0.817788\n",
      "7                         0.785235  0.817788\n",
      "8                         0.785235  0.817788\n",
      "9                         0.785235  0.817788\n",
      "10                        0.785235  0.817788\n",
      "                            recall       roc\n",
      "SVC with C =1gamma = 0.4                    \n",
      "0                         0.785235  0.817788\n",
      "1                         0.785235  0.817788\n",
      "2                         0.785235  0.817788\n",
      "3                         0.785235  0.817788\n",
      "4                         0.785235  0.817788\n",
      "5                         0.785235  0.817788\n",
      "6                         0.785235  0.817788\n",
      "7                         0.785235  0.817788\n",
      "8                         0.785235  0.817788\n",
      "9                         0.785235  0.817788\n",
      "10                        0.785235  0.817788\n",
      "                            recall       roc\n",
      "SVC with C =1gamma = 0.5                    \n",
      "0                         0.785235  0.817788\n",
      "1                         0.785235  0.817788\n",
      "2                         0.785235  0.817788\n",
      "3                         0.785235  0.817788\n",
      "4                         0.785235  0.817788\n",
      "5                         0.785235  0.817788\n",
      "6                         0.785235  0.817788\n",
      "7                         0.785235  0.817788\n",
      "8                         0.785235  0.817788\n",
      "9                         0.785235  0.817788\n",
      "10                        0.785235  0.817788\n",
      "                            recall       roc\n",
      "SVC with C =1gamma = 0.6                    \n",
      "0                         0.785235  0.817788\n",
      "1                         0.785235  0.817788\n",
      "2                         0.785235  0.817788\n",
      "3                         0.785235  0.817788\n",
      "4                         0.785235  0.817788\n",
      "5                         0.785235  0.817788\n",
      "6                         0.785235  0.817788\n",
      "7                         0.785235  0.817788\n",
      "8                         0.785235  0.817788\n",
      "9                         0.785235  0.817788\n",
      "10                        0.785235  0.817788\n",
      "                            recall       roc\n",
      "SVC with C =1gamma = 0.7                    \n",
      "0                         0.785235  0.817788\n",
      "1                         0.785235  0.817788\n",
      "2                         0.785235  0.817788\n",
      "3                         0.785235  0.817788\n",
      "4                         0.785235  0.817788\n",
      "5                         0.785235  0.817788\n",
      "6                         0.785235  0.817788\n",
      "7                         0.785235  0.817788\n",
      "8                         0.785235  0.817788\n",
      "9                         0.785235  0.817788\n",
      "10                        0.785235  0.817788\n",
      "                            recall       roc\n",
      "SVC with C =1gamma = 0.8                    \n",
      "0                         0.785235  0.817788\n",
      "1                         0.785235  0.817788\n",
      "2                         0.785235  0.817788\n",
      "3                         0.785235  0.817788\n",
      "4                         0.785235  0.817788\n",
      "5                         0.785235  0.817788\n",
      "6                         0.785235  0.817788\n",
      "7                         0.785235  0.817788\n",
      "8                         0.785235  0.817788\n",
      "9                         0.785235  0.817788\n",
      "10                        0.785235  0.817788\n",
      "                            recall       roc\n",
      "SVC with C =1gamma = 0.9                    \n",
      "0                         0.785235  0.817788\n",
      "1                         0.785235  0.817788\n",
      "2                         0.785235  0.817788\n",
      "3                         0.785235  0.817788\n",
      "4                         0.785235  0.817788\n",
      "5                         0.785235  0.817788\n",
      "6                         0.785235  0.817788\n",
      "7                         0.785235  0.817788\n",
      "8                         0.785235  0.817788\n",
      "9                         0.785235  0.817788\n",
      "10                        0.785235  0.817788\n",
      "                             recall       roc\n",
      "SVC with C =10gamma = 0.1                    \n",
      "0                          0.812081  0.858421\n",
      "1                          0.812081  0.858421\n",
      "2                          0.812081  0.858421\n",
      "3                          0.812081  0.858421\n",
      "4                          0.812081  0.858421\n",
      "5                          0.812081  0.858421\n",
      "6                          0.812081  0.858421\n",
      "7                          0.812081  0.858421\n",
      "8                          0.812081  0.858421\n",
      "9                          0.812081  0.858421\n",
      "10                         0.812081  0.858421\n",
      "                             recall       roc\n",
      "SVC with C =10gamma = 0.2                    \n",
      "0                          0.785235  0.817788\n",
      "1                          0.785235  0.817788\n",
      "2                          0.785235  0.817788\n",
      "3                          0.785235  0.817788\n",
      "4                          0.785235  0.817788\n",
      "5                          0.785235  0.817788\n",
      "6                          0.785235  0.817788\n",
      "7                          0.785235  0.817788\n",
      "8                          0.785235  0.817788\n",
      "9                          0.785235  0.817788\n",
      "10                         0.785235  0.817788\n",
      "                             recall       roc\n",
      "SVC with C =10gamma = 0.3                    \n",
      "0                          0.785235  0.817788\n",
      "1                          0.785235  0.817788\n",
      "2                          0.785235  0.817788\n",
      "3                          0.785235  0.817788\n",
      "4                          0.785235  0.817788\n",
      "5                          0.785235  0.817788\n",
      "6                          0.785235  0.817788\n",
      "7                          0.785235  0.817788\n",
      "8                          0.785235  0.817788\n",
      "9                          0.785235  0.817788\n",
      "10                         0.785235  0.817788\n",
      "                             recall       roc\n",
      "SVC with C =10gamma = 0.4                    \n",
      "0                          0.785235  0.817788\n",
      "1                          0.785235  0.817788\n",
      "2                          0.785235  0.817788\n",
      "3                          0.785235  0.817788\n",
      "4                          0.785235  0.817788\n",
      "5                          0.785235  0.817788\n",
      "6                          0.785235  0.817788\n",
      "7                          0.785235  0.817788\n",
      "8                          0.785235  0.817788\n",
      "9                          0.785235  0.817788\n",
      "10                         0.785235  0.817788\n",
      "                             recall       roc\n",
      "SVC with C =10gamma = 0.5                    \n",
      "0                          0.785235  0.817788\n",
      "1                          0.785235  0.817788\n",
      "2                          0.785235  0.817788\n",
      "3                          0.785235  0.817788\n",
      "4                          0.785235  0.817788\n",
      "5                          0.785235  0.817788\n",
      "6                          0.785235  0.817788\n",
      "7                          0.785235  0.817788\n",
      "8                          0.785235  0.817788\n",
      "9                          0.785235  0.817788\n",
      "10                         0.785235  0.817788\n",
      "                             recall       roc\n",
      "SVC with C =10gamma = 0.6                    \n",
      "0                          0.785235  0.817788\n",
      "1                          0.785235  0.817788\n",
      "2                          0.785235  0.817788\n",
      "3                          0.785235  0.817788\n",
      "4                          0.785235  0.817788\n",
      "5                          0.785235  0.817788\n",
      "6                          0.785235  0.817788\n",
      "7                          0.785235  0.817788\n",
      "8                          0.785235  0.817788\n",
      "9                          0.785235  0.817788\n",
      "10                         0.785235  0.817788\n",
      "                             recall       roc\n",
      "SVC with C =10gamma = 0.7                    \n",
      "0                          0.785235  0.817788\n",
      "1                          0.785235  0.817788\n",
      "2                          0.785235  0.817788\n",
      "3                          0.785235  0.817788\n",
      "4                          0.785235  0.817788\n",
      "5                          0.785235  0.817788\n",
      "6                          0.785235  0.817788\n",
      "7                          0.785235  0.817788\n",
      "8                          0.785235  0.817788\n",
      "9                          0.785235  0.817788\n",
      "10                         0.785235  0.817788\n",
      "                             recall       roc\n",
      "SVC with C =10gamma = 0.8                    \n",
      "0                          0.785235  0.817788\n",
      "1                          0.785235  0.817788\n",
      "2                          0.785235  0.817788\n",
      "3                          0.785235  0.817788\n",
      "4                          0.785235  0.817788\n",
      "5                          0.785235  0.817788\n",
      "6                          0.785235  0.817788\n",
      "7                          0.785235  0.817788\n",
      "8                          0.785235  0.817788\n",
      "9                          0.785235  0.817788\n",
      "10                         0.785235  0.817788\n",
      "                             recall       roc\n",
      "SVC with C =10gamma = 0.9                    \n",
      "0                          0.785235  0.817788\n",
      "1                          0.785235  0.817788\n",
      "2                          0.785235  0.817788\n",
      "3                          0.785235  0.817788\n",
      "4                          0.785235  0.817788\n",
      "5                          0.785235  0.817788\n",
      "6                          0.785235  0.817788\n",
      "7                          0.785235  0.817788\n",
      "8                          0.785235  0.817788\n",
      "9                          0.785235  0.817788\n",
      "10                         0.785235  0.817788\n",
      "                              recall     roc\n",
      "SVC with C =100gamma = 0.1                  \n",
      "0                           0.798658  0.8279\n",
      "1                           0.798658  0.8279\n",
      "2                           0.798658  0.8279\n",
      "3                           0.798658  0.8279\n",
      "4                           0.798658  0.8279\n",
      "5                           0.798658  0.8279\n",
      "6                           0.798658  0.8279\n",
      "7                           0.798658  0.8279\n",
      "8                           0.798658  0.8279\n",
      "9                           0.798658  0.8279\n",
      "10                          0.798658  0.8279\n",
      "                              recall       roc\n",
      "SVC with C =100gamma = 0.2                    \n",
      "0                           0.785235  0.817788\n",
      "1                           0.785235  0.817788\n",
      "2                           0.785235  0.817788\n",
      "3                           0.785235  0.817788\n",
      "4                           0.785235  0.817788\n",
      "5                           0.785235  0.817788\n",
      "6                           0.785235  0.817788\n",
      "7                           0.785235  0.817788\n",
      "8                           0.785235  0.817788\n",
      "9                           0.785235  0.817788\n",
      "10                          0.785235  0.817788\n",
      "                              recall       roc\n",
      "SVC with C =100gamma = 0.3                    \n",
      "0                           0.785235  0.817788\n",
      "1                           0.785235  0.817788\n",
      "2                           0.785235  0.817788\n",
      "3                           0.785235  0.817788\n",
      "4                           0.785235  0.817788\n",
      "5                           0.785235  0.817788\n",
      "6                           0.785235  0.817788\n",
      "7                           0.785235  0.817788\n",
      "8                           0.785235  0.817788\n",
      "9                           0.785235  0.817788\n",
      "10                          0.785235  0.817788\n",
      "                              recall       roc\n",
      "SVC with C =100gamma = 0.4                    \n",
      "0                           0.785235  0.817788\n",
      "1                           0.785235  0.817788\n",
      "2                           0.785235  0.817788\n",
      "3                           0.785235  0.817788\n",
      "4                           0.785235  0.817788\n",
      "5                           0.785235  0.817788\n",
      "6                           0.785235  0.817788\n",
      "7                           0.785235  0.817788\n",
      "8                           0.785235  0.817788\n",
      "9                           0.785235  0.817788\n",
      "10                          0.785235  0.817788\n",
      "                              recall       roc\n",
      "SVC with C =100gamma = 0.5                    \n",
      "0                           0.785235  0.817788\n",
      "1                           0.785235  0.817788\n",
      "2                           0.785235  0.817788\n",
      "3                           0.785235  0.817788\n",
      "4                           0.785235  0.817788\n",
      "5                           0.785235  0.817788\n",
      "6                           0.785235  0.817788\n",
      "7                           0.785235  0.817788\n",
      "8                           0.785235  0.817788\n",
      "9                           0.785235  0.817788\n",
      "10                          0.785235  0.817788\n",
      "                              recall       roc\n",
      "SVC with C =100gamma = 0.6                    \n",
      "0                           0.785235  0.817788\n",
      "1                           0.785235  0.817788\n",
      "2                           0.785235  0.817788\n",
      "3                           0.785235  0.817788\n",
      "4                           0.785235  0.817788\n",
      "5                           0.785235  0.817788\n",
      "6                           0.785235  0.817788\n",
      "7                           0.785235  0.817788\n",
      "8                           0.785235  0.817788\n",
      "9                           0.785235  0.817788\n",
      "10                          0.785235  0.817788\n",
      "                              recall       roc\n",
      "SVC with C =100gamma = 0.7                    \n",
      "0                           0.785235  0.817788\n",
      "1                           0.785235  0.817788\n",
      "2                           0.785235  0.817788\n",
      "3                           0.785235  0.817788\n",
      "4                           0.785235  0.817788\n",
      "5                           0.785235  0.817788\n",
      "6                           0.785235  0.817788\n",
      "7                           0.785235  0.817788\n",
      "8                           0.785235  0.817788\n",
      "9                           0.785235  0.817788\n",
      "10                          0.785235  0.817788\n",
      "                              recall       roc\n",
      "SVC with C =100gamma = 0.8                    \n",
      "0                           0.785235  0.817788\n",
      "1                           0.785235  0.817788\n",
      "2                           0.785235  0.817788\n",
      "3                           0.785235  0.817788\n",
      "4                           0.785235  0.817788\n",
      "5                           0.785235  0.817788\n",
      "6                           0.785235  0.817788\n",
      "7                           0.785235  0.817788\n",
      "8                           0.785235  0.817788\n",
      "9                           0.785235  0.817788\n",
      "10                          0.785235  0.817788\n",
      "                              recall       roc\n",
      "SVC with C =100gamma = 0.9                    \n",
      "0                           0.785235  0.817788\n",
      "1                           0.785235  0.817788\n",
      "2                           0.785235  0.817788\n",
      "3                           0.785235  0.817788\n",
      "4                           0.785235  0.817788\n",
      "5                           0.785235  0.817788\n",
      "6                           0.785235  0.817788\n",
      "7                           0.785235  0.817788\n",
      "8                           0.785235  0.817788\n",
      "9                           0.785235  0.817788\n",
      "10                          0.785235  0.817788\n"
     ]
    }
   ],
   "source": [
    "C = [0.01,0.1,1,10,100]\n",
    "for c in C:\n",
    "    gamma = [0.1,0.2,0.3,0.4,0.5,0.6,0.7,0.8,0.9] \n",
    "    for g in gamma :\n",
    "        for d in range(11):\n",
    "            recall = []\n",
    "            roc = []\n",
    "            from sklearn.svm import SVC\n",
    "            svc = SVC(kernel = \"poly\", C = c, gamma = g,degree = d, random_state = 0)\n",
    "            svc.fit(X_under_train,y_under_train)\n",
    "            y_pred = svc.predict(X_under_test)\n",
    "            from sklearn.metrics import recall_score,roc_auc_score\n",
    "            rec = recall_score(y_under_test,y_pred)\n",
    "            roc_auc = roc_auc_score(y_under_test,y_pred)\n",
    "            recall.append(rec)\n",
    "            roc.append(roc_auc)\n",
    "        svc_tabel = pd.DataFrame({\"recall\":recall,\"roc\":roc}, index = range(11))\n",
    "        a = \"SVC with C =\"+ str(c) +\"gamma = \"+ str(g)\n",
    "        svc_tabel.index.name = str(a)\n",
    "        svc_tabel.sort_values(by = \"recall\", inplace = True)\n",
    "        print (svc_tabel)"
   ]
  },
  {
   "cell_type": "raw",
   "metadata": {
    "deletable": true,
    "editable": true
   },
   "source": [
    "For undersampled data, best accuracy of 97% and recall accuracy of 98% was predicted by Random Forest Classifier for 49 estimators, threshold = 0.3"
   ]
  },
  {
   "cell_type": "markdown",
   "metadata": {
    "deletable": true,
    "editable": true
   },
   "source": [
    "# Oversampled Data"
   ]
  },
  {
   "cell_type": "code",
   "execution_count": 4,
   "metadata": {
    "collapsed": false,
    "deletable": true,
    "editable": true
   },
   "outputs": [],
   "source": [
    "from imblearn.over_sampling import SMOTE\n",
    "over_sampler = SMOTE(random_state = 0)"
   ]
  },
  {
   "cell_type": "code",
   "execution_count": 5,
   "metadata": {
    "collapsed": false,
    "deletable": true,
    "editable": true
   },
   "outputs": [],
   "source": [
    "X_over,y_over = over_sampler.fit_sample(X,y)"
   ]
  },
  {
   "cell_type": "code",
   "execution_count": 6,
   "metadata": {
    "collapsed": false,
    "deletable": true,
    "editable": true
   },
   "outputs": [
    {
     "data": {
      "text/plain": [
       "568630"
      ]
     },
     "execution_count": 6,
     "metadata": {},
     "output_type": "execute_result"
    }
   ],
   "source": [
    "len(X_over)"
   ]
  },
  {
   "cell_type": "code",
   "execution_count": 7,
   "metadata": {
    "collapsed": false,
    "deletable": true,
    "editable": true
   },
   "outputs": [
    {
     "data": {
      "text/plain": [
       "284315"
      ]
     },
     "execution_count": 7,
     "metadata": {},
     "output_type": "execute_result"
    }
   ],
   "source": [
    "len(y_over[y_over==1])"
   ]
  },
  {
   "cell_type": "code",
   "execution_count": 8,
   "metadata": {
    "collapsed": false,
    "deletable": true,
    "editable": true
   },
   "outputs": [],
   "source": [
    "from sklearn.model_selection import train_test_split\n",
    "X_over_train,X_over_test,y_over_train,y_over_test = train_test_split(X_over,y_over, test_size = 0.3, random_state = 0)"
   ]
  },
  {
   "cell_type": "code",
   "execution_count": 25,
   "metadata": {
    "collapsed": true,
    "deletable": true,
    "editable": true
   },
   "outputs": [],
   "source": [
    "from sklearn.preprocessing import StandardScaler\n",
    "std = StandardScaler()\n",
    "X_over_train = std.fit_transform(X_over_train)\n",
    "X_over_test = std.transform(X_over_test)\n",
    "X_std = std.transform(X)"
   ]
  },
  {
   "cell_type": "markdown",
   "metadata": {
    "deletable": true,
    "editable": true
   },
   "source": [
    "# Random Forest Classifier"
   ]
  },
  {
   "cell_type": "code",
   "execution_count": 10,
   "metadata": {
    "collapsed": true,
    "deletable": true,
    "editable": true
   },
   "outputs": [],
   "source": [
    "n_estimators = range(5,20)\n",
    "recall = []\n",
    "roc_score = []\n",
    "for n in n_estimators:\n",
    "    from sklearn.ensemble import RandomForestClassifier\n",
    "    rfc = RandomForestClassifier(n_estimators = n)\n",
    "    rfc.fit(X_over_train,y_over_train)\n",
    "    y_pred = rfc.predict(X_over_test)\n",
    "    from sklearn.metrics import recall_score,roc_auc_score\n",
    "    rec = recall_score(y_over_test,y_pred)\n",
    "    roc = roc_auc_score(y_over_test,y_pred)\n",
    "    recall.append(rec)\n",
    "    roc_score.append(roc)"
   ]
  },
  {
   "cell_type": "code",
   "execution_count": 14,
   "metadata": {
    "collapsed": false,
    "deletable": true,
    "editable": true
   },
   "outputs": [
    {
     "data": {
      "text/html": [
       "<div>\n",
       "<table border=\"1\" class=\"dataframe\">\n",
       "  <thead>\n",
       "    <tr style=\"text-align: right;\">\n",
       "      <th></th>\n",
       "      <th>recall</th>\n",
       "      <th>roc_auc_score</th>\n",
       "    </tr>\n",
       "  </thead>\n",
       "  <tbody>\n",
       "    <tr>\n",
       "      <th>13</th>\n",
       "      <td>0.999988</td>\n",
       "      <td>0.999830</td>\n",
       "    </tr>\n",
       "    <tr>\n",
       "      <th>19</th>\n",
       "      <td>0.999988</td>\n",
       "      <td>0.999877</td>\n",
       "    </tr>\n",
       "    <tr>\n",
       "      <th>9</th>\n",
       "      <td>0.999977</td>\n",
       "      <td>0.999806</td>\n",
       "    </tr>\n",
       "    <tr>\n",
       "      <th>14</th>\n",
       "      <td>0.999977</td>\n",
       "      <td>0.999836</td>\n",
       "    </tr>\n",
       "    <tr>\n",
       "      <th>16</th>\n",
       "      <td>0.999977</td>\n",
       "      <td>0.999871</td>\n",
       "    </tr>\n",
       "    <tr>\n",
       "      <th>11</th>\n",
       "      <td>0.999965</td>\n",
       "      <td>0.999836</td>\n",
       "    </tr>\n",
       "    <tr>\n",
       "      <th>18</th>\n",
       "      <td>0.999965</td>\n",
       "      <td>0.999842</td>\n",
       "    </tr>\n",
       "    <tr>\n",
       "      <th>15</th>\n",
       "      <td>0.999953</td>\n",
       "      <td>0.999859</td>\n",
       "    </tr>\n",
       "    <tr>\n",
       "      <th>17</th>\n",
       "      <td>0.999953</td>\n",
       "      <td>0.999842</td>\n",
       "    </tr>\n",
       "    <tr>\n",
       "      <th>5</th>\n",
       "      <td>0.999941</td>\n",
       "      <td>0.999800</td>\n",
       "    </tr>\n",
       "    <tr>\n",
       "      <th>8</th>\n",
       "      <td>0.999918</td>\n",
       "      <td>0.999836</td>\n",
       "    </tr>\n",
       "    <tr>\n",
       "      <th>10</th>\n",
       "      <td>0.999906</td>\n",
       "      <td>0.999824</td>\n",
       "    </tr>\n",
       "    <tr>\n",
       "      <th>12</th>\n",
       "      <td>0.999906</td>\n",
       "      <td>0.999824</td>\n",
       "    </tr>\n",
       "    <tr>\n",
       "      <th>6</th>\n",
       "      <td>0.999895</td>\n",
       "      <td>0.999830</td>\n",
       "    </tr>\n",
       "    <tr>\n",
       "      <th>7</th>\n",
       "      <td>0.999883</td>\n",
       "      <td>0.999759</td>\n",
       "    </tr>\n",
       "  </tbody>\n",
       "</table>\n",
       "</div>"
      ],
      "text/plain": [
       "      recall  roc_auc_score\n",
       "13  0.999988       0.999830\n",
       "19  0.999988       0.999877\n",
       "9   0.999977       0.999806\n",
       "14  0.999977       0.999836\n",
       "16  0.999977       0.999871\n",
       "11  0.999965       0.999836\n",
       "18  0.999965       0.999842\n",
       "15  0.999953       0.999859\n",
       "17  0.999953       0.999842\n",
       "5   0.999941       0.999800\n",
       "8   0.999918       0.999836\n",
       "10  0.999906       0.999824\n",
       "12  0.999906       0.999824\n",
       "6   0.999895       0.999830\n",
       "7   0.999883       0.999759"
      ]
     },
     "execution_count": 14,
     "metadata": {},
     "output_type": "execute_result"
    }
   ],
   "source": [
    "rfc_tabel = pd.DataFrame({\"recall\":recall,\"roc_auc_score\":roc_score}, index = range(5,20))\n",
    "rfc_tabel.sort_values(by = \"recall\", ascending = False, inplace = True)\n",
    "rfc_tabel"
   ]
  },
  {
   "cell_type": "raw",
   "metadata": {
    "collapsed": true,
    "deletable": true,
    "editable": true
   },
   "source": [
    "Random Forest Classifier with 19 estimators gives best possible recall accuracy 99.98%"
   ]
  },
  {
   "cell_type": "code",
   "execution_count": 15,
   "metadata": {
    "collapsed": false,
    "deletable": true,
    "editable": true
   },
   "outputs": [
    {
     "data": {
      "text/plain": [
       "RandomForestClassifier(bootstrap=True, class_weight=None, criterion='gini',\n",
       "            max_depth=None, max_features='auto', max_leaf_nodes=None,\n",
       "            min_impurity_split=1e-07, min_samples_leaf=1,\n",
       "            min_samples_split=2, min_weight_fraction_leaf=0.0,\n",
       "            n_estimators=19, n_jobs=1, oob_score=False, random_state=None,\n",
       "            verbose=0, warm_start=False)"
      ]
     },
     "execution_count": 15,
     "metadata": {},
     "output_type": "execute_result"
    }
   ],
   "source": [
    "from sklearn.ensemble import RandomForestClassifier\n",
    "rfc_best = RandomForestClassifier(n_estimators = 19)\n",
    "rfc_best.fit(X_over_train,y_over_train)"
   ]
  },
  {
   "cell_type": "code",
   "execution_count": 20,
   "metadata": {
    "collapsed": false,
    "deletable": true,
    "editable": true
   },
   "outputs": [],
   "source": [
    "y_pred_test = rfc_best.predict(X_over_test)"
   ]
  },
  {
   "cell_type": "code",
   "execution_count": 22,
   "metadata": {
    "collapsed": false,
    "deletable": true,
    "editable": true
   },
   "outputs": [
    {
     "data": {
      "text/plain": [
       "(0.99971909454809338, 0.99996487818584123)"
      ]
     },
     "execution_count": 22,
     "metadata": {},
     "output_type": "execute_result"
    }
   ],
   "source": [
    "from sklearn.metrics import precision_recall_curve\n",
    "precision, recall, thresholds = precision_recall_curve(y_over_test,y_pred_test)\n",
    "precision[1], recall[1]"
   ]
  },
  {
   "cell_type": "code",
   "execution_count": 26,
   "metadata": {
    "collapsed": false,
    "deletable": true,
    "editable": true
   },
   "outputs": [],
   "source": [
    "y_pred_total = rfc_best.predict(X_std)"
   ]
  },
  {
   "cell_type": "code",
   "execution_count": 29,
   "metadata": {
    "collapsed": false,
    "deletable": true,
    "editable": true
   },
   "outputs": [
    {
     "data": {
      "text/plain": [
       "(0.0047341587764020395, 0.60772357723577231)"
      ]
     },
     "execution_count": 29,
     "metadata": {},
     "output_type": "execute_result"
    }
   ],
   "source": [
    "from sklearn.metrics import precision_recall_curve, confusion_matrix\n",
    "precision, recall, thresholds = precision_recall_curve(y,y_pred_total)\n",
    "precision[1], recall[1]"
   ]
  },
  {
   "cell_type": "code",
   "execution_count": 30,
   "metadata": {
    "collapsed": false,
    "deletable": true,
    "editable": true
   },
   "outputs": [
    {
     "data": {
      "text/plain": [
       "array([[221456,  62859],\n",
       "       [   193,    299]])"
      ]
     },
     "execution_count": 30,
     "metadata": {},
     "output_type": "execute_result"
    }
   ],
   "source": [
    "cm = confusion_matrix(y,y_pred_total)\n",
    "cm"
   ]
  },
  {
   "cell_type": "raw",
   "metadata": {
    "collapsed": true,
    "deletable": true,
    "editable": true
   },
   "source": [
    "Undersampled data gave better accuracy on overall dataset over oversampled data."
   ]
  },
  {
   "cell_type": "markdown",
   "metadata": {},
   "source": [
    "# Conclusions :"
   ]
  },
  {
   "cell_type": "raw",
   "metadata": {},
   "source": [
    "1. Fitting models to undersampled data gave better accuracy than oversampled data.\n",
    "2. Best accuracy of 97% and recall accuracy of 98% was predicted by Random Forest Classifier for 49 estimators, threshold = 0.3"
   ]
  }
 ],
 "metadata": {
  "kernelspec": {
   "display_name": "Python 3",
   "language": "python",
   "name": "python3"
  },
  "language_info": {
   "codemirror_mode": {
    "name": "ipython",
    "version": 3
   },
   "file_extension": ".py",
   "mimetype": "text/x-python",
   "name": "python",
   "nbconvert_exporter": "python",
   "pygments_lexer": "ipython3",
   "version": "3.5.2+"
  }
 },
 "nbformat": 4,
 "nbformat_minor": 2
}
